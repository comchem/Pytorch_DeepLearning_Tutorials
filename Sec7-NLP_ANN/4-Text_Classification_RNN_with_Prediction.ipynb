{
  "nbformat": 4,
  "nbformat_minor": 0,
  "metadata": {
    "kernelspec": {
      "display_name": "Python 3",
      "language": "python",
      "name": "python3"
    },
    "language_info": {
      "codemirror_mode": {
        "name": "ipython",
        "version": 3
      },
      "file_extension": ".py",
      "mimetype": "text/x-python",
      "name": "python",
      "nbconvert_exporter": "python",
      "pygments_lexer": "ipython3",
      "version": "3.8.5"
    },
    "colab": {
      "name": "4-Text_Classification_RNN_with_Prediction.ipynb",
      "provenance": [],
      "include_colab_link": true
    },
    "accelerator": "GPU"
  },
  "cells": [
    {
      "cell_type": "markdown",
      "metadata": {
        "id": "view-in-github",
        "colab_type": "text"
      },
      "source": [
        "<a href=\"https://colab.research.google.com/github/comchem/Pytorch_DeepLearning_Tutorials/blob/master/Sec7-NLP_ANN/4-Text_Classification_RNN_with_Prediction.ipynb\" target=\"_parent\"><img src=\"https://colab.research.google.com/assets/colab-badge.svg\" alt=\"Open In Colab\"/></a>"
      ]
    },
    {
      "cell_type": "code",
      "metadata": {
        "id": "BLXF1E-Kx8yV"
      },
      "source": [
        "import torch\n",
        "import torch.nn as nn\n",
        "import torchtext.legacy.data as ttd\n",
        "from torchtext.vocab import GloVe\n",
        "import numpy as np\n",
        "import pandas as pd\n",
        "import matplotlib.pyplot as plt\n",
        "from datetime import datetime"
      ],
      "execution_count": 2,
      "outputs": []
    },
    {
      "cell_type": "code",
      "metadata": {
        "colab": {
          "base_uri": "https://localhost:8080/"
        },
        "id": "xCDbYnlvyBub",
        "outputId": "57bbe141-d7c4-44f7-c245-0b8659a29e85"
      },
      "source": [
        "!git clone https://github.com/comchem/Pytorch_DeepLearning_Tutorials.git"
      ],
      "execution_count": 3,
      "outputs": [
        {
          "output_type": "stream",
          "text": [
            "Cloning into 'Pytorch_DeepLearning_Tutorials'...\n",
            "remote: Enumerating objects: 212, done.\u001b[K\n",
            "remote: Counting objects: 100% (212/212), done.\u001b[K\n",
            "remote: Compressing objects: 100% (208/208), done.\u001b[K\n",
            "remote: Total 212 (delta 104), reused 3 (delta 0), pack-reused 0\u001b[K\n",
            "Receiving objects: 100% (212/212), 2.78 MiB | 13.93 MiB/s, done.\n",
            "Resolving deltas: 100% (104/104), done.\n"
          ],
          "name": "stdout"
        }
      ]
    },
    {
      "cell_type": "code",
      "metadata": {
        "id": "-iPDWXeuyLjA"
      },
      "source": [
        "path = './Pytorch_DeepLearning_Tutorials/data/spam.csv'\n",
        "df = pd.read_csv(path, encoding='ISO-8859-1')"
      ],
      "execution_count": 4,
      "outputs": []
    },
    {
      "cell_type": "code",
      "metadata": {
        "colab": {
          "base_uri": "https://localhost:8080/",
          "height": 204
        },
        "id": "m4BxvdmQyPrj",
        "outputId": "78cf2f0a-a0a3-46ef-ab5a-100fc03b415c"
      },
      "source": [
        "df.head()"
      ],
      "execution_count": 5,
      "outputs": [
        {
          "output_type": "execute_result",
          "data": {
            "text/html": [
              "<div>\n",
              "<style scoped>\n",
              "    .dataframe tbody tr th:only-of-type {\n",
              "        vertical-align: middle;\n",
              "    }\n",
              "\n",
              "    .dataframe tbody tr th {\n",
              "        vertical-align: top;\n",
              "    }\n",
              "\n",
              "    .dataframe thead th {\n",
              "        text-align: right;\n",
              "    }\n",
              "</style>\n",
              "<table border=\"1\" class=\"dataframe\">\n",
              "  <thead>\n",
              "    <tr style=\"text-align: right;\">\n",
              "      <th></th>\n",
              "      <th>v1</th>\n",
              "      <th>v2</th>\n",
              "      <th>Unnamed: 2</th>\n",
              "      <th>Unnamed: 3</th>\n",
              "      <th>Unnamed: 4</th>\n",
              "    </tr>\n",
              "  </thead>\n",
              "  <tbody>\n",
              "    <tr>\n",
              "      <th>0</th>\n",
              "      <td>ham</td>\n",
              "      <td>Go until jurong point, crazy.. Available only ...</td>\n",
              "      <td>NaN</td>\n",
              "      <td>NaN</td>\n",
              "      <td>NaN</td>\n",
              "    </tr>\n",
              "    <tr>\n",
              "      <th>1</th>\n",
              "      <td>ham</td>\n",
              "      <td>Ok lar... Joking wif u oni...</td>\n",
              "      <td>NaN</td>\n",
              "      <td>NaN</td>\n",
              "      <td>NaN</td>\n",
              "    </tr>\n",
              "    <tr>\n",
              "      <th>2</th>\n",
              "      <td>spam</td>\n",
              "      <td>Free entry in 2 a wkly comp to win FA Cup fina...</td>\n",
              "      <td>NaN</td>\n",
              "      <td>NaN</td>\n",
              "      <td>NaN</td>\n",
              "    </tr>\n",
              "    <tr>\n",
              "      <th>3</th>\n",
              "      <td>ham</td>\n",
              "      <td>U dun say so early hor... U c already then say...</td>\n",
              "      <td>NaN</td>\n",
              "      <td>NaN</td>\n",
              "      <td>NaN</td>\n",
              "    </tr>\n",
              "    <tr>\n",
              "      <th>4</th>\n",
              "      <td>ham</td>\n",
              "      <td>Nah I don't think he goes to usf, he lives aro...</td>\n",
              "      <td>NaN</td>\n",
              "      <td>NaN</td>\n",
              "      <td>NaN</td>\n",
              "    </tr>\n",
              "  </tbody>\n",
              "</table>\n",
              "</div>"
            ],
            "text/plain": [
              "     v1  ... Unnamed: 4\n",
              "0   ham  ...        NaN\n",
              "1   ham  ...        NaN\n",
              "2  spam  ...        NaN\n",
              "3   ham  ...        NaN\n",
              "4   ham  ...        NaN\n",
              "\n",
              "[5 rows x 5 columns]"
            ]
          },
          "metadata": {
            "tags": []
          },
          "execution_count": 5
        }
      ]
    },
    {
      "cell_type": "code",
      "metadata": {
        "id": "nj7wHPhbyUXL"
      },
      "source": [
        "# drop unnecessary columns\n",
        "df = df.drop([\"Unnamed: 2\", \"Unnamed: 3\", \"Unnamed: 4\"], axis=1)"
      ],
      "execution_count": 6,
      "outputs": []
    },
    {
      "cell_type": "code",
      "metadata": {
        "colab": {
          "base_uri": "https://localhost:8080/",
          "height": 204
        },
        "id": "87V31iGbyWfF",
        "outputId": "bb3cb813-3602-49b0-efbf-12c1d6ac482d"
      },
      "source": [
        "df.head()"
      ],
      "execution_count": 7,
      "outputs": [
        {
          "output_type": "execute_result",
          "data": {
            "text/html": [
              "<div>\n",
              "<style scoped>\n",
              "    .dataframe tbody tr th:only-of-type {\n",
              "        vertical-align: middle;\n",
              "    }\n",
              "\n",
              "    .dataframe tbody tr th {\n",
              "        vertical-align: top;\n",
              "    }\n",
              "\n",
              "    .dataframe thead th {\n",
              "        text-align: right;\n",
              "    }\n",
              "</style>\n",
              "<table border=\"1\" class=\"dataframe\">\n",
              "  <thead>\n",
              "    <tr style=\"text-align: right;\">\n",
              "      <th></th>\n",
              "      <th>v1</th>\n",
              "      <th>v2</th>\n",
              "    </tr>\n",
              "  </thead>\n",
              "  <tbody>\n",
              "    <tr>\n",
              "      <th>0</th>\n",
              "      <td>ham</td>\n",
              "      <td>Go until jurong point, crazy.. Available only ...</td>\n",
              "    </tr>\n",
              "    <tr>\n",
              "      <th>1</th>\n",
              "      <td>ham</td>\n",
              "      <td>Ok lar... Joking wif u oni...</td>\n",
              "    </tr>\n",
              "    <tr>\n",
              "      <th>2</th>\n",
              "      <td>spam</td>\n",
              "      <td>Free entry in 2 a wkly comp to win FA Cup fina...</td>\n",
              "    </tr>\n",
              "    <tr>\n",
              "      <th>3</th>\n",
              "      <td>ham</td>\n",
              "      <td>U dun say so early hor... U c already then say...</td>\n",
              "    </tr>\n",
              "    <tr>\n",
              "      <th>4</th>\n",
              "      <td>ham</td>\n",
              "      <td>Nah I don't think he goes to usf, he lives aro...</td>\n",
              "    </tr>\n",
              "  </tbody>\n",
              "</table>\n",
              "</div>"
            ],
            "text/plain": [
              "     v1                                                 v2\n",
              "0   ham  Go until jurong point, crazy.. Available only ...\n",
              "1   ham                      Ok lar... Joking wif u oni...\n",
              "2  spam  Free entry in 2 a wkly comp to win FA Cup fina...\n",
              "3   ham  U dun say so early hor... U c already then say...\n",
              "4   ham  Nah I don't think he goes to usf, he lives aro..."
            ]
          },
          "metadata": {
            "tags": []
          },
          "execution_count": 7
        }
      ]
    },
    {
      "cell_type": "code",
      "metadata": {
        "id": "d4mVJ5boyYIt"
      },
      "source": [
        "# rename columns to something better\n",
        "df.columns = ['labels', 'data']"
      ],
      "execution_count": 8,
      "outputs": []
    },
    {
      "cell_type": "code",
      "metadata": {
        "colab": {
          "base_uri": "https://localhost:8080/",
          "height": 204
        },
        "id": "FHtcITwtyZyo",
        "outputId": "3c036c80-6a6f-413d-a1fa-1ae6e300c991"
      },
      "source": [
        "df.head()"
      ],
      "execution_count": 9,
      "outputs": [
        {
          "output_type": "execute_result",
          "data": {
            "text/html": [
              "<div>\n",
              "<style scoped>\n",
              "    .dataframe tbody tr th:only-of-type {\n",
              "        vertical-align: middle;\n",
              "    }\n",
              "\n",
              "    .dataframe tbody tr th {\n",
              "        vertical-align: top;\n",
              "    }\n",
              "\n",
              "    .dataframe thead th {\n",
              "        text-align: right;\n",
              "    }\n",
              "</style>\n",
              "<table border=\"1\" class=\"dataframe\">\n",
              "  <thead>\n",
              "    <tr style=\"text-align: right;\">\n",
              "      <th></th>\n",
              "      <th>labels</th>\n",
              "      <th>data</th>\n",
              "    </tr>\n",
              "  </thead>\n",
              "  <tbody>\n",
              "    <tr>\n",
              "      <th>0</th>\n",
              "      <td>ham</td>\n",
              "      <td>Go until jurong point, crazy.. Available only ...</td>\n",
              "    </tr>\n",
              "    <tr>\n",
              "      <th>1</th>\n",
              "      <td>ham</td>\n",
              "      <td>Ok lar... Joking wif u oni...</td>\n",
              "    </tr>\n",
              "    <tr>\n",
              "      <th>2</th>\n",
              "      <td>spam</td>\n",
              "      <td>Free entry in 2 a wkly comp to win FA Cup fina...</td>\n",
              "    </tr>\n",
              "    <tr>\n",
              "      <th>3</th>\n",
              "      <td>ham</td>\n",
              "      <td>U dun say so early hor... U c already then say...</td>\n",
              "    </tr>\n",
              "    <tr>\n",
              "      <th>4</th>\n",
              "      <td>ham</td>\n",
              "      <td>Nah I don't think he goes to usf, he lives aro...</td>\n",
              "    </tr>\n",
              "  </tbody>\n",
              "</table>\n",
              "</div>"
            ],
            "text/plain": [
              "  labels                                               data\n",
              "0    ham  Go until jurong point, crazy.. Available only ...\n",
              "1    ham                      Ok lar... Joking wif u oni...\n",
              "2   spam  Free entry in 2 a wkly comp to win FA Cup fina...\n",
              "3    ham  U dun say so early hor... U c already then say...\n",
              "4    ham  Nah I don't think he goes to usf, he lives aro..."
            ]
          },
          "metadata": {
            "tags": []
          },
          "execution_count": 9
        }
      ]
    },
    {
      "cell_type": "code",
      "metadata": {
        "id": "2sqvAL9IybZJ"
      },
      "source": [
        "# create binary labels\n",
        "df['b_labels'] = df['labels'].map({'ham':0, 'spam':1})"
      ],
      "execution_count": 10,
      "outputs": []
    },
    {
      "cell_type": "code",
      "metadata": {
        "id": "rA27ocdVygx1"
      },
      "source": [
        "df2 = df[['data', 'b_labels']]"
      ],
      "execution_count": 11,
      "outputs": []
    },
    {
      "cell_type": "code",
      "metadata": {
        "colab": {
          "base_uri": "https://localhost:8080/",
          "height": 204
        },
        "id": "7DZyNcvwyiyM",
        "outputId": "b010635b-76db-48cc-cfce-c2f558aae82b"
      },
      "source": [
        "df2.head()"
      ],
      "execution_count": 12,
      "outputs": [
        {
          "output_type": "execute_result",
          "data": {
            "text/html": [
              "<div>\n",
              "<style scoped>\n",
              "    .dataframe tbody tr th:only-of-type {\n",
              "        vertical-align: middle;\n",
              "    }\n",
              "\n",
              "    .dataframe tbody tr th {\n",
              "        vertical-align: top;\n",
              "    }\n",
              "\n",
              "    .dataframe thead th {\n",
              "        text-align: right;\n",
              "    }\n",
              "</style>\n",
              "<table border=\"1\" class=\"dataframe\">\n",
              "  <thead>\n",
              "    <tr style=\"text-align: right;\">\n",
              "      <th></th>\n",
              "      <th>data</th>\n",
              "      <th>b_labels</th>\n",
              "    </tr>\n",
              "  </thead>\n",
              "  <tbody>\n",
              "    <tr>\n",
              "      <th>0</th>\n",
              "      <td>Go until jurong point, crazy.. Available only ...</td>\n",
              "      <td>0</td>\n",
              "    </tr>\n",
              "    <tr>\n",
              "      <th>1</th>\n",
              "      <td>Ok lar... Joking wif u oni...</td>\n",
              "      <td>0</td>\n",
              "    </tr>\n",
              "    <tr>\n",
              "      <th>2</th>\n",
              "      <td>Free entry in 2 a wkly comp to win FA Cup fina...</td>\n",
              "      <td>1</td>\n",
              "    </tr>\n",
              "    <tr>\n",
              "      <th>3</th>\n",
              "      <td>U dun say so early hor... U c already then say...</td>\n",
              "      <td>0</td>\n",
              "    </tr>\n",
              "    <tr>\n",
              "      <th>4</th>\n",
              "      <td>Nah I don't think he goes to usf, he lives aro...</td>\n",
              "      <td>0</td>\n",
              "    </tr>\n",
              "  </tbody>\n",
              "</table>\n",
              "</div>"
            ],
            "text/plain": [
              "                                                data  b_labels\n",
              "0  Go until jurong point, crazy.. Available only ...         0\n",
              "1                      Ok lar... Joking wif u oni...         0\n",
              "2  Free entry in 2 a wkly comp to win FA Cup fina...         1\n",
              "3  U dun say so early hor... U c already then say...         0\n",
              "4  Nah I don't think he goes to usf, he lives aro...         0"
            ]
          },
          "metadata": {
            "tags": []
          },
          "execution_count": 12
        }
      ]
    },
    {
      "cell_type": "code",
      "metadata": {
        "id": "xn5eeQ6Wykqn"
      },
      "source": [
        "df2.to_csv('spam2.csv', index=False)"
      ],
      "execution_count": 13,
      "outputs": []
    },
    {
      "cell_type": "code",
      "metadata": {
        "id": "2nXLyW9TymXY"
      },
      "source": [
        "TEXT = ttd.Field(\n",
        "    sequential = True,\n",
        "    batch_first = True,\n",
        "    lower = True,\n",
        "    # tokenize = 'spacy',\n",
        "    pad_first = True\n",
        ")\n",
        "LABEL = ttd.Field(sequential = False, use_vocab = False, is_target = True)\n",
        "\n",
        "# Note: if you don't specify use_vocab = False, then Pytorch will complain later when you try \n",
        "# to iterate over the dataset that the attribute 'vocab' doesn't exist.\n",
        "\n",
        "# Note 2: if you don't specify is_target = True, then Pytorch will assume it's part of the input,\n",
        "# so when you iterate over the dataset it will be like:\n",
        "# for (inputs, targets), _ in iterator:\n",
        "# where the 2nd element (_) should have been the target.\n",
        "\n",
        "dataset = ttd.TabularDataset(\n",
        "    path = 'spam2.csv',\n",
        "    format = 'csv',\n",
        "    skip_header = True,\n",
        "    fields = [('data', TEXT), ('label', LABEL)]\n",
        ")"
      ],
      "execution_count": 14,
      "outputs": []
    },
    {
      "cell_type": "code",
      "metadata": {
        "id": "2rqLQ764yqAM"
      },
      "source": [
        "train_dataset, test_dataset = dataset.split()  # default is 0.7"
      ],
      "execution_count": 15,
      "outputs": []
    },
    {
      "cell_type": "code",
      "metadata": {
        "id": "NWMEZb0jytpW"
      },
      "source": [
        "TEXT.build_vocab(train_dataset)"
      ],
      "execution_count": 16,
      "outputs": []
    },
    {
      "cell_type": "code",
      "metadata": {
        "colab": {
          "base_uri": "https://localhost:8080/"
        },
        "id": "mbBHGKh-yvFA",
        "outputId": "19a3eb4a-a8bf-4970-ceea-28d8853cf6e6"
      },
      "source": [
        "vocab = TEXT.vocab\n",
        "type(vocab)"
      ],
      "execution_count": 17,
      "outputs": [
        {
          "output_type": "execute_result",
          "data": {
            "text/plain": [
              "torchtext.vocab.Vocab"
            ]
          },
          "metadata": {
            "tags": []
          },
          "execution_count": 17
        }
      ]
    },
    {
      "cell_type": "code",
      "metadata": {
        "colab": {
          "base_uri": "https://localhost:8080/"
        },
        "id": "72lVvlgeyxmQ",
        "outputId": "ccb22ea7-d3cf-4b72-e813-3d4281272459"
      },
      "source": [
        "# Set device\n",
        "device = torch.device(\"cuda:0\" if torch.cuda.is_available() else \"cpu\")\n",
        "print(device)"
      ],
      "execution_count": 18,
      "outputs": [
        {
          "output_type": "stream",
          "text": [
            "cuda:0\n"
          ],
          "name": "stdout"
        }
      ]
    },
    {
      "cell_type": "code",
      "metadata": {
        "id": "5XC8C6bay_lJ"
      },
      "source": [
        "train_iter, test_iter = ttd.Iterator.splits(\n",
        "    (train_dataset, test_dataset), sort_key = lambda x: len(x.data),\n",
        "    batch_sizes = (2,2), device = device\n",
        ")"
      ],
      "execution_count": 19,
      "outputs": []
    },
    {
      "cell_type": "code",
      "metadata": {
        "colab": {
          "base_uri": "https://localhost:8080/"
        },
        "id": "GaQLrZR6zBuC",
        "outputId": "cf2e507b-33b5-40fa-dc56-2f8f7b95f07e"
      },
      "source": [
        "len(vocab)"
      ],
      "execution_count": 20,
      "outputs": [
        {
          "output_type": "execute_result",
          "data": {
            "text/plain": [
              "10864"
            ]
          },
          "metadata": {
            "tags": []
          },
          "execution_count": 20
        }
      ]
    },
    {
      "cell_type": "code",
      "metadata": {
        "id": "0FlCsOZ3zINa"
      },
      "source": [
        "### Define the model\n",
        "class RNN(nn.Module):\n",
        "    def __init__(self, n_vocab, embed_dim, n_hidden, n_rnnlayers, n_outputs):\n",
        "        super(RNN, self).__init__()\n",
        "        self.V = n_vocab\n",
        "        self.D = embed_dim    # Pretrained vectors\n",
        "        self.M = n_hidden\n",
        "        self.K = n_outputs\n",
        "        self.L = n_rnnlayers\n",
        "        \n",
        "        self.embed = nn.Embedding(self.V, self.D)\n",
        "        self.rnn = nn.LSTM(\n",
        "          input_size = self.D,\n",
        "          hidden_size = self.M,\n",
        "          num_layers = self.L,\n",
        "          batch_first = True)\n",
        "        self.fc = nn.Linear(self.M, self.K)\n",
        "    \n",
        "    def forward(self, X):\n",
        "        # initial hidden states\n",
        "        h0 = torch.zeros(self.L, X.size(0), self.M).to(device)\n",
        "        c0 = torch.zeros(self.L, X.size(0), self.M).to(device)\n",
        "        \n",
        "        # embedding layer --> N x T --> N x T x D\n",
        "        # turns word indexes into word vectors\n",
        "        out = self.embed(X)\n",
        "\n",
        "        # get RNN unit output --> N x T x D --> N x T x M\n",
        "        out, _ = self.rnn(out, (h0, c0))\n",
        "\n",
        "        # max pool --> N x T x M --> N x M\n",
        "        out, _ = torch.max(out, 1)\n",
        "        \n",
        "        # we only want h(T) at the final time step\n",
        "        # N x M --> N x K\n",
        "        out = self.fc(out)\n",
        "        return out"
      ],
      "execution_count": 21,
      "outputs": []
    },
    {
      "cell_type": "code",
      "metadata": {
        "colab": {
          "base_uri": "https://localhost:8080/"
        },
        "id": "rlhYtrtVzS6I",
        "outputId": "1ecdfceb-8168-452e-ac40-2e08a8587041"
      },
      "source": [
        "# Instantiate the model\n",
        "model = RNN(n_vocab = len(vocab), embed_dim = 20, n_hidden=15, n_rnnlayers = 1, n_outputs = 1)\n",
        "model.to(device)"
      ],
      "execution_count": 22,
      "outputs": [
        {
          "output_type": "execute_result",
          "data": {
            "text/plain": [
              "RNN(\n",
              "  (embed): Embedding(10864, 20)\n",
              "  (rnn): LSTM(20, 15, batch_first=True)\n",
              "  (fc): Linear(in_features=15, out_features=1, bias=True)\n",
              ")"
            ]
          },
          "metadata": {
            "tags": []
          },
          "execution_count": 22
        }
      ]
    },
    {
      "cell_type": "code",
      "metadata": {
        "id": "PA0IcGkrzUu8"
      },
      "source": [
        "criterion = nn.BCEWithLogitsLoss()\n",
        "optimizer = torch.optim.Adam(model.parameters(), lr = 0.01)"
      ],
      "execution_count": 23,
      "outputs": []
    },
    {
      "cell_type": "code",
      "metadata": {
        "id": "UlDoEjDuzZmt"
      },
      "source": [
        "# A function to encapsulate the training loop\n",
        "def batch_gd(model, criterion, optimizer, train_iter, test_iter, epochs):\n",
        "\n",
        "  train_losses = np.zeros(epochs)\n",
        "  test_losses = np.zeros(epochs)\n",
        "\n",
        "  for it in range(epochs):\n",
        "    t0 = datetime.now()\n",
        "    train_loss = []\n",
        "    for inputs, targets in train_iter:\n",
        "      # print(\"inputs.shape:\", inputs.shape, \"targets.shape:\", targets.shape)\n",
        "      # move data to GPU  \n",
        "      # inputs, targets = inputs.to(device), targets.to(device)\n",
        "      targets = targets.view(-1, 1).float()\n",
        "\n",
        "      # zero the parameter gradients\n",
        "      optimizer.zero_grad()\n",
        "\n",
        "      # Forward pass\n",
        "      outputs = model(inputs)\n",
        "      loss = criterion(outputs, targets)\n",
        "\n",
        "      # Backward and optimize\n",
        "      loss.backward()\n",
        "      optimizer.step()\n",
        "\n",
        "      train_loss.append(loss.item())\n",
        "      \n",
        "    # Get train loss and test loss\n",
        "    train_loss = np.mean(train_loss)   # a little misleading\n",
        "\n",
        "    test_loss = []\n",
        "    for inputs, targets in test_iter:\n",
        "      #inputs, targets = inputs.to(device), targets.to(device)\n",
        "      targets = targets.view(-1,1).float()\n",
        "      outputs = model(inputs)\n",
        "      loss = criterion(outputs, targets)\n",
        "      test_loss.append(loss.item())\n",
        "    test_loss = np.mean(test_loss)\n",
        "\n",
        "    # Save losses\n",
        "    train_losses[it] = train_loss\n",
        "    test_losses[it] = test_loss\n",
        "\n",
        "    dt = datetime.now() - t0      \n",
        "    print(f'Epoch {it+1}/{epochs}, Train Loss: {train_loss:.4f}, Test Loss: {test_loss:.4f}, Duration: {dt}')\n",
        "  \n",
        "  return train_losses, test_losses"
      ],
      "execution_count": 24,
      "outputs": []
    },
    {
      "cell_type": "code",
      "metadata": {
        "colab": {
          "base_uri": "https://localhost:8080/"
        },
        "id": "4xUp6qTPzc_G",
        "outputId": "b45b309b-ef21-4c84-d623-b18eab1b7ae6"
      },
      "source": [
        "train_losses, test_losses = batch_gd(\n",
        "    model, criterion, optimizer, train_iter, test_iter, 15\n",
        ")"
      ],
      "execution_count": 25,
      "outputs": [
        {
          "output_type": "stream",
          "text": [
            "Epoch 1/15, Train Loss: 0.1482, Test Loss: 0.0880, Duration: 0:00:05.857607\n",
            "Epoch 2/15, Train Loss: 0.0316, Test Loss: 0.0988, Duration: 0:00:05.551310\n",
            "Epoch 3/15, Train Loss: 0.0117, Test Loss: 0.1074, Duration: 0:00:05.554219\n",
            "Epoch 4/15, Train Loss: 0.0043, Test Loss: 0.1153, Duration: 0:00:05.589371\n",
            "Epoch 5/15, Train Loss: 0.0055, Test Loss: 0.1145, Duration: 0:00:05.621190\n",
            "Epoch 6/15, Train Loss: 0.0023, Test Loss: 0.1614, Duration: 0:00:05.653558\n",
            "Epoch 7/15, Train Loss: 0.0010, Test Loss: 0.2149, Duration: 0:00:05.610698\n",
            "Epoch 8/15, Train Loss: 0.0015, Test Loss: 0.1087, Duration: 0:00:05.507769\n",
            "Epoch 9/15, Train Loss: 0.0001, Test Loss: 0.1965, Duration: 0:00:05.555107\n",
            "Epoch 10/15, Train Loss: 0.0000, Test Loss: 0.1946, Duration: 0:00:05.767947\n",
            "Epoch 11/15, Train Loss: 0.0000, Test Loss: 0.2034, Duration: 0:00:05.774455\n",
            "Epoch 12/15, Train Loss: 0.0000, Test Loss: 0.1786, Duration: 0:00:05.561167\n",
            "Epoch 13/15, Train Loss: 0.0000, Test Loss: 0.1903, Duration: 0:00:05.497735\n",
            "Epoch 14/15, Train Loss: 0.0000, Test Loss: 0.2045, Duration: 0:00:05.534550\n",
            "Epoch 15/15, Train Loss: 0.0000, Test Loss: 0.2173, Duration: 0:00:05.588784\n"
          ],
          "name": "stdout"
        }
      ]
    },
    {
      "cell_type": "code",
      "metadata": {
        "colab": {
          "base_uri": "https://localhost:8080/",
          "height": 265
        },
        "id": "4TpCQEGhzfAT",
        "outputId": "3aef74ae-1beb-4935-923d-fc4e82b2c9af"
      },
      "source": [
        "# Plot the train loss and test loss per iteration\n",
        "plt.plot(train_losses, label='train loss')\n",
        "plt.plot(test_losses, label='test loss')\n",
        "plt.legend()\n",
        "plt.show()"
      ],
      "execution_count": 26,
      "outputs": [
        {
          "output_type": "display_data",
          "data": {
            "image/png": "[encoded data removed]",
            "text/plain": [
              "<Figure size 432x288 with 1 Axes>"
            ]
          },
          "metadata": {
            "tags": [],
            "needs_background": "light"
          }
        }
      ]
    },
    {
      "cell_type": "code",
      "metadata": {
        "colab": {
          "base_uri": "https://localhost:8080/"
        },
        "id": "hUm2mptoz3ya",
        "outputId": "ae2ef8e7-7d85-47a5-cf72-e58e5e3cc67d"
      },
      "source": [
        "# Accuracy\n",
        "\n",
        "p_train = []\n",
        "y_train = []\n",
        "for inputs, targets in train_iter:\n",
        "    targets = targets.view(-1, 1).float()\n",
        "    \n",
        "    # Forward pass\n",
        "    outputs = model(inputs)\n",
        "    #print(outputs.shape)\n",
        "    \n",
        "    # Get prediction\n",
        "    predictions = list((outputs > 0).cpu().detach().numpy())\n",
        "    \n",
        "    # Store prediction\n",
        "    p_train += predictions   # item : sum까지만 하면 출력이 tensor로 표현되므로 합산만 뽑아냄\n",
        "    y_train += list(targets.cpu().detach().numpy())\n",
        "    \n",
        "p_train = np.array(p_train)\n",
        "y_train = np.array(y_train)\n",
        "train_acc = np.mean(y_train == p_train)\n",
        "\n",
        "\n",
        "p_test = []\n",
        "y_test = []\n",
        "for inputs, targets in test_iter:\n",
        "    targets = targets.view(-1, 1).float()\n",
        "\n",
        "    # Forward pass\n",
        "    outputs = model(inputs)\n",
        "    \n",
        "    # Get prediction\n",
        "    predictions = list((outputs > 0).cpu().detach().numpy())\n",
        "    \n",
        "    # update counts\n",
        "    p_test += predictions    # item : sum까지만 하면 출력이 tensor로 표현되므로 합산만 뽑아냄\n",
        "    y_test += list(targets.cpu().detach().numpy())\n",
        "    \n",
        "p_test = np.array(p_test)\n",
        "y_test = np.array(y_test)\n",
        "test_acc = np.mean(y_test == p_test)\n",
        "\n",
        "print(f'Train acc: {train_acc:.4f}, Test acc: {test_acc:.4f}')"
      ],
      "execution_count": 27,
      "outputs": [
        {
          "output_type": "stream",
          "text": [
            "Train acc: 1.0000, Test acc: 0.9797\n"
          ],
          "name": "stdout"
        }
      ]
    },
    {
      "cell_type": "code",
      "metadata": {
        "colab": {
          "base_uri": "https://localhost:8080/"
        },
        "id": "a7jyL8K5z5ah",
        "outputId": "5e8a1e4f-da32-4501-d61a-9f74fd7d7ab3"
      },
      "source": [
        "df[df['labels'] == 'spam'].size / df.size"
      ],
      "execution_count": 28,
      "outputs": [
        {
          "output_type": "execute_result",
          "data": {
            "text/plain": [
              "0.13406317300789664"
            ]
          },
          "metadata": {
            "tags": []
          },
          "execution_count": 28
        }
      ]
    },
    {
      "cell_type": "code",
      "metadata": {
        "id": "4tOJfjrC0GBz"
      },
      "source": [
        "# Plot confusion matrix\n",
        "from sklearn.metrics import confusion_matrix\n",
        "import itertools\n",
        "\n",
        "def plot_confusion_matrix(cm, classes,\n",
        "                         normalize=False,\n",
        "                         title='Confusion matrix',\n",
        "                         cmap=plt.cm.Blues):\n",
        "    \"\"\"\n",
        "    This function prints and plots the confusion matrix.\n",
        "    Normalization can be applied by setting 'normalize=True'.\n",
        "    \"\"\"\n",
        "    if normalize:\n",
        "        cm = dm.astype('float') / cm.sum(axis=1)[:,np.newaxis]\n",
        "        print(\"Normalized confusion matrix\")\n",
        "    else:\n",
        "        print('Confusion matrix, without normalization')\n",
        "        \n",
        "    print(cm)\n",
        "    \n",
        "    plt.imshow(cm, interpolation='nearest', cmap=cmap)    # color 부여\n",
        "    plt.title(title)\n",
        "    plt.colorbar()\n",
        "    tick_marks = np.arange(len(classes))\n",
        "    plt.xticks(tick_marks, classes, rotation=45)\n",
        "    plt.yticks(tick_marks, classes)\n",
        "    \n",
        "    fmt = '.2f' if normalize else 'd'\n",
        "    thresh = cm.max() / 2.\n",
        "    for i, j in itertools.product(range(cm.shape[0]), range(cm.shape[1])):\n",
        "        plt.text(j, i, format(cm[i,j], fmt),\n",
        "                horizontalalignment='center',\n",
        "                color='white' if cm[i,j] > thresh else 'black')\n",
        "    \n",
        "    plt.tight_layout()\n",
        "    plt.ylabel('True label')\n",
        "    plt.xlabel('Predicted label')\n",
        "    plt.show()"
      ],
      "execution_count": 29,
      "outputs": []
    },
    {
      "cell_type": "code",
      "metadata": {
        "colab": {
          "base_uri": "https://localhost:8080/",
          "height": 362
        },
        "id": "6qqd9NsT0m-E",
        "outputId": "4233688c-f3a2-4ee1-cdab-5f5d052b9f41"
      },
      "source": [
        "cm = confusion_matrix(y_test, p_test)\n",
        "plot_confusion_matrix(cm, [0,1])"
      ],
      "execution_count": 30,
      "outputs": [
        {
          "output_type": "stream",
          "text": [
            "Confusion matrix, without normalization\n",
            "[[1453   11]\n",
            " [  23  185]]\n"
          ],
          "name": "stdout"
        },
        {
          "output_type": "display_data",
          "data": {
            "image/png": "[encoded data removed]",
            "text/plain": [
              "<Figure size 432x288 with 2 Axes>"
            ]
          },
          "metadata": {
            "tags": [],
            "needs_background": "light"
          }
        }
      ]
    },
    {
      "cell_type": "code",
      "metadata": {
        "colab": {
          "base_uri": "https://localhost:8080/",
          "height": 362
        },
        "id": "Uf4ibTA61bQS",
        "outputId": "c0abd842-0790-4250-8661-b567f4a4ac04"
      },
      "source": [
        "cm = confusion_matrix(y_train, p_train)\n",
        "plot_confusion_matrix(cm, [0,1])"
      ],
      "execution_count": 31,
      "outputs": [
        {
          "output_type": "stream",
          "text": [
            "Confusion matrix, without normalization\n",
            "[[3361    0]\n",
            " [   0  539]]\n"
          ],
          "name": "stdout"
        },
        {
          "output_type": "display_data",
          "data": {
            "image/png": "[encoded data removed]",
            "text/plain": [
              "<Figure size 432x288 with 2 Axes>"
            ]
          },
          "metadata": {
            "tags": [],
            "needs_background": "light"
          }
        }
      ]
    },
    {
      "cell_type": "code",
      "metadata": {
        "id": "k7YF0UP0CuVM",
        "colab": {
          "base_uri": "https://localhost:8080/",
          "height": 142
        },
        "outputId": "2f011c5c-9b10-49ef-d40d-8289964208c6"
      },
      "source": [
        "## Make predictions ##\n",
        "\n",
        "# get some random test data\n",
        "df[df.labels == 'spam'].sample(3)"
      ],
      "execution_count": 32,
      "outputs": [
        {
          "output_type": "execute_result",
          "data": {
            "text/html": [
              "<div>\n",
              "<style scoped>\n",
              "    .dataframe tbody tr th:only-of-type {\n",
              "        vertical-align: middle;\n",
              "    }\n",
              "\n",
              "    .dataframe tbody tr th {\n",
              "        vertical-align: top;\n",
              "    }\n",
              "\n",
              "    .dataframe thead th {\n",
              "        text-align: right;\n",
              "    }\n",
              "</style>\n",
              "<table border=\"1\" class=\"dataframe\">\n",
              "  <thead>\n",
              "    <tr style=\"text-align: right;\">\n",
              "      <th></th>\n",
              "      <th>labels</th>\n",
              "      <th>data</th>\n",
              "      <th>b_labels</th>\n",
              "    </tr>\n",
              "  </thead>\n",
              "  <tbody>\n",
              "    <tr>\n",
              "      <th>712</th>\n",
              "      <td>spam</td>\n",
              "      <td>08714712388 between 10am-7pm Cost 10p</td>\n",
              "      <td>1</td>\n",
              "    </tr>\n",
              "    <tr>\n",
              "      <th>3296</th>\n",
              "      <td>spam</td>\n",
              "      <td>Todays Voda numbers ending 5226 are selected t...</td>\n",
              "      <td>1</td>\n",
              "    </tr>\n",
              "    <tr>\n",
              "      <th>5196</th>\n",
              "      <td>spam</td>\n",
              "      <td>Spook up your mob with a Halloween collection ...</td>\n",
              "      <td>1</td>\n",
              "    </tr>\n",
              "  </tbody>\n",
              "</table>\n",
              "</div>"
            ],
            "text/plain": [
              "     labels                                               data  b_labels\n",
              "712    spam              08714712388 between 10am-7pm Cost 10p         1\n",
              "3296   spam  Todays Voda numbers ending 5226 are selected t...         1\n",
              "5196   spam  Spook up your mob with a Halloween collection ...         1"
            ]
          },
          "metadata": {
            "tags": []
          },
          "execution_count": 32
        }
      ]
    },
    {
      "cell_type": "code",
      "metadata": {
        "id": "fBIMVcBgDAPF"
      },
      "source": [
        "small_sample = df[df.labels == 'spam'].sample(3)\n",
        "with open('sample_test.csv', 'w') as f:\n",
        "  f.write('data\\n')   # header\n",
        "  for i, row in small_sample.iterrows():\n",
        "    f.write(row['data'] + \"\\n\")"
      ],
      "execution_count": 39,
      "outputs": []
    },
    {
      "cell_type": "code",
      "metadata": {
        "id": "ZHOcUip2nEPg",
        "outputId": "f57543c9-94b0-4000-fc7f-ffdc1ec4ed34",
        "colab": {
          "base_uri": "https://localhost:8080/"
        }
      },
      "source": [
        "!cat sample_test.csv"
      ],
      "execution_count": 41,
      "outputs": [
        {
          "output_type": "stream",
          "text": [
            "data\n",
            "Natalja (25/F) is inviting you to be her friend. Reply YES-440 or NO-440 See her: www.SMS.ac/u/nat27081980 STOP? Send STOP FRND to 62468\n",
            "Please CALL 08712402779 immediately as there is an urgent message waiting for you\n",
            "Sppok up ur mob with a Halloween collection of nokia logo&pic message plus a FREE eerie tone, txt CARD SPOOK to 8007\n"
          ],
          "name": "stdout"
        }
      ]
    },
    {
      "cell_type": "code",
      "metadata": {
        "id": "faRPjl9voDH1"
      },
      "source": [
        "sample_dataset = ttd.TabularDataset(\n",
        "    path = 'sample_test.csv',\n",
        "    format = 'csv',\n",
        "    skip_header = True,\n",
        "    fields = [('data', TEXT)]\n",
        ")"
      ],
      "execution_count": 42,
      "outputs": []
    },
    {
      "cell_type": "code",
      "metadata": {
        "id": "jhxY2hRcpMD8"
      },
      "source": [
        "sample_iter = ttd.Iterator(\n",
        "    sample_dataset,\n",
        "    batch_size = 32,\n",
        "    sort_key = lambda x: len(x.data),\n",
        "    device = device)"
      ],
      "execution_count": 44,
      "outputs": []
    },
    {
      "cell_type": "code",
      "metadata": {
        "id": "D7Ff1XG0tgGX",
        "outputId": "2f916e5d-a19f-4966-b1ba-b7cceb625e42",
        "colab": {
          "base_uri": "https://localhost:8080/"
        }
      },
      "source": [
        "for inputs in sample_iter:\n",
        "  print(\"inputs:\", inputs)\n",
        "  outputs = model(inputs.data)\n",
        "  print(outputs)"
      ],
      "execution_count": 45,
      "outputs": [
        {
          "output_type": "stream",
          "text": [
            "inputs: \n",
            "[torchtext.legacy.data.batch.Batch of size 3]\n",
            "\t[.data]:[torch.cuda.LongTensor of size 3x22 (GPU 0)]\n",
            "tensor([[21.2081],\n",
            "        [14.7771],\n",
            "        [13.8170]], device='cuda:0', grad_fn=<AddmmBackward>)\n"
          ],
          "name": "stdout"
        }
      ]
    },
    {
      "cell_type": "code",
      "metadata": {
        "id": "8G-LMiyQuIGf"
      },
      "source": [
        "single_sentence = 'Our dating service has been asked 2 contact U by someone shy! CALL 09058091870 Now all will be revealed.'"
      ],
      "execution_count": 48,
      "outputs": []
    },
    {
      "cell_type": "code",
      "metadata": {
        "id": "_OfBeM29u6pl",
        "outputId": "8e81c688-08e5-463f-edce-6a6b253a14d3",
        "colab": {
          "base_uri": "https://localhost:8080/"
        }
      },
      "source": [
        "TEXT.preprocess(single_sentence)"
      ],
      "execution_count": 49,
      "outputs": [
        {
          "output_type": "execute_result",
          "data": {
            "text/plain": [
              "['our',\n",
              " 'dating',\n",
              " 'service',\n",
              " 'has',\n",
              " 'been',\n",
              " 'asked',\n",
              " '2',\n",
              " 'contact',\n",
              " 'u',\n",
              " 'by',\n",
              " 'someone',\n",
              " 'shy!',\n",
              " 'call',\n",
              " '09058091870',\n",
              " 'now',\n",
              " 'all',\n",
              " 'will',\n",
              " 'be',\n",
              " 'revealed.']"
            ]
          },
          "metadata": {
            "tags": []
          },
          "execution_count": 49
        }
      ]
    },
    {
      "cell_type": "code",
      "metadata": {
        "id": "S7_EbFIMu9Tn",
        "outputId": "e2a099eb-244d-4762-a6d8-4ce4cc0b43ae",
        "colab": {
          "base_uri": "https://localhost:8080/"
        }
      },
      "source": [
        "TEXT.numericalize([TEXT.preprocess(single_sentence)])"
      ],
      "execution_count": 50,
      "outputs": [
        {
          "output_type": "execute_result",
          "data": {
            "text/plain": [
              "tensor([[  80,  888,  235,  110,   95,  433,   22,  162,    8,   72,  199, 9500,\n",
              "           17, 4572,   48,   41,   37,   35, 1825]])"
            ]
          },
          "metadata": {
            "tags": []
          },
          "execution_count": 50
        }
      ]
    },
    {
      "cell_type": "code",
      "metadata": {
        "id": "8mq5UpkWvU5m",
        "outputId": "54089c76-95d7-42a8-a15f-ed2123301c17",
        "colab": {
          "base_uri": "https://localhost:8080/"
        }
      },
      "source": [
        "toks = TEXT.preprocess(single_sentence)\n",
        "sent_idx = TEXT.numericalize([toks])\n",
        "model(sent_idx.to(device))"
      ],
      "execution_count": 51,
      "outputs": [
        {
          "output_type": "execute_result",
          "data": {
            "text/plain": [
              "tensor([[18.0019]], device='cuda:0', grad_fn=<AddmmBackward>)"
            ]
          },
          "metadata": {
            "tags": []
          },
          "execution_count": 51
        }
      ]
    }
  ]
}