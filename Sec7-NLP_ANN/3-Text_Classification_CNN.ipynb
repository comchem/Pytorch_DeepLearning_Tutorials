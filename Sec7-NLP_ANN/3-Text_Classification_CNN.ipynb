{
  "nbformat": 4,
  "nbformat_minor": 0,
  "metadata": {
    "kernelspec": {
      "display_name": "Python 3",
      "language": "python",
      "name": "python3"
    },
    "language_info": {
      "codemirror_mode": {
        "name": "ipython",
        "version": 3
      },
      "file_extension": ".py",
      "mimetype": "text/x-python",
      "name": "python",
      "nbconvert_exporter": "python",
      "pygments_lexer": "ipython3",
      "version": "3.8.5"
    },
    "colab": {
      "name": "3-Text_Classification_CNN.ipynb",
      "provenance": [],
      "include_colab_link": true
    },
    "accelerator": "GPU"
  },
  "cells": [
    {
      "cell_type": "markdown",
      "metadata": {
        "id": "view-in-github",
        "colab_type": "text"
      },
      "source": [
        "<a href=\"https://colab.research.google.com/github/comchem/Pytorch_DeepLearning_Tutorials/blob/master/Sec7-NLP_ANN/3-Text_Classification_CNN.ipynb\" target=\"_parent\"><img src=\"https://colab.research.google.com/assets/colab-badge.svg\" alt=\"Open In Colab\"/></a>"
      ]
    },
    {
      "cell_type": "code",
      "metadata": {
        "id": "CBsw4qV66Lj4"
      },
      "source": [
        "import torch\n",
        "import torch.nn as nn\n",
        "import torch.nn.functional as F\n",
        "import torchtext.legacy.data as ttd\n",
        "import numpy as np\n",
        "import pandas as pd\n",
        "import matplotlib.pyplot as plt\n",
        "from datetime import datetime"
      ],
      "execution_count": 1,
      "outputs": []
    },
    {
      "cell_type": "code",
      "metadata": {
        "id": "1Qq07Rnl6NX7",
        "colab": {
          "base_uri": "https://localhost:8080/"
        },
        "outputId": "434e52f0-098f-40ad-c4f1-4d7e1e438b03"
      },
      "source": [
        "!git clone https://github.com/comchem/Pytorch_DeepLearning_Tutorials.git"
      ],
      "execution_count": 2,
      "outputs": [
        {
          "output_type": "stream",
          "text": [
            "Cloning into 'Pytorch_DeepLearning_Tutorials'...\n",
            "remote: Enumerating objects: 197, done.\u001b[K\n",
            "remote: Counting objects: 100% (197/197), done.\u001b[K\n",
            "remote: Compressing objects: 100% (193/193), done.\u001b[K\n",
            "remote: Total 197 (delta 93), reused 3 (delta 0), pack-reused 0\u001b[K\n",
            "Receiving objects: 100% (197/197), 2.71 MiB | 11.77 MiB/s, done.\n",
            "Resolving deltas: 100% (93/93), done.\n"
          ],
          "name": "stdout"
        }
      ]
    },
    {
      "cell_type": "code",
      "metadata": {
        "id": "XGcoKmH96cfI"
      },
      "source": [
        "path = './Pytorch_DeepLearning_Tutorials/data/spam.csv'\n",
        "df = pd.read_csv(path, encoding='ISO-8859-1')"
      ],
      "execution_count": 3,
      "outputs": []
    },
    {
      "cell_type": "code",
      "metadata": {
        "id": "aa4HUJX56iRH",
        "colab": {
          "base_uri": "https://localhost:8080/",
          "height": 262
        },
        "outputId": "7882940c-0086-4151-cd48-f97f5fde0ea0"
      },
      "source": [
        "df.head()"
      ],
      "execution_count": 4,
      "outputs": [
        {
          "output_type": "execute_result",
          "data": {
            "text/html": [
              "<div>\n",
              "<style scoped>\n",
              "    .dataframe tbody tr th:only-of-type {\n",
              "        vertical-align: middle;\n",
              "    }\n",
              "\n",
              "    .dataframe tbody tr th {\n",
              "        vertical-align: top;\n",
              "    }\n",
              "\n",
              "    .dataframe thead th {\n",
              "        text-align: right;\n",
              "    }\n",
              "</style>\n",
              "<table border=\"1\" class=\"dataframe\">\n",
              "  <thead>\n",
              "    <tr style=\"text-align: right;\">\n",
              "      <th></th>\n",
              "      <th>v1</th>\n",
              "      <th>v2</th>\n",
              "      <th>Unnamed: 2</th>\n",
              "      <th>Unnamed: 3</th>\n",
              "      <th>Unnamed: 4</th>\n",
              "    </tr>\n",
              "  </thead>\n",
              "  <tbody>\n",
              "    <tr>\n",
              "      <th>0</th>\n",
              "      <td>ham</td>\n",
              "      <td>Go until jurong point, crazy.. Available only ...</td>\n",
              "      <td>NaN</td>\n",
              "      <td>NaN</td>\n",
              "      <td>NaN</td>\n",
              "    </tr>\n",
              "    <tr>\n",
              "      <th>1</th>\n",
              "      <td>ham</td>\n",
              "      <td>Ok lar... Joking wif u oni...</td>\n",
              "      <td>NaN</td>\n",
              "      <td>NaN</td>\n",
              "      <td>NaN</td>\n",
              "    </tr>\n",
              "    <tr>\n",
              "      <th>2</th>\n",
              "      <td>spam</td>\n",
              "      <td>Free entry in 2 a wkly comp to win FA Cup fina...</td>\n",
              "      <td>NaN</td>\n",
              "      <td>NaN</td>\n",
              "      <td>NaN</td>\n",
              "    </tr>\n",
              "    <tr>\n",
              "      <th>3</th>\n",
              "      <td>ham</td>\n",
              "      <td>U dun say so early hor... U c already then say...</td>\n",
              "      <td>NaN</td>\n",
              "      <td>NaN</td>\n",
              "      <td>NaN</td>\n",
              "    </tr>\n",
              "    <tr>\n",
              "      <th>4</th>\n",
              "      <td>ham</td>\n",
              "      <td>Nah I don't think he goes to usf, he lives aro...</td>\n",
              "      <td>NaN</td>\n",
              "      <td>NaN</td>\n",
              "      <td>NaN</td>\n",
              "    </tr>\n",
              "  </tbody>\n",
              "</table>\n",
              "</div>"
            ],
            "text/plain": [
              "     v1  ... Unnamed: 4\n",
              "0   ham  ...        NaN\n",
              "1   ham  ...        NaN\n",
              "2  spam  ...        NaN\n",
              "3   ham  ...        NaN\n",
              "4   ham  ...        NaN\n",
              "\n",
              "[5 rows x 5 columns]"
            ]
          },
          "metadata": {
            "tags": []
          },
          "execution_count": 4
        }
      ]
    },
    {
      "cell_type": "code",
      "metadata": {
        "id": "NZYaC0CF6m49"
      },
      "source": [
        "# drop unnecessary columns\n",
        "df = df.drop([\"Unnamed: 2\", \"Unnamed: 3\", \"Unnamed: 4\"], axis=1)"
      ],
      "execution_count": 5,
      "outputs": []
    },
    {
      "cell_type": "code",
      "metadata": {
        "id": "kA2Z8yav6pq7",
        "colab": {
          "base_uri": "https://localhost:8080/",
          "height": 195
        },
        "outputId": "a89014b0-5611-4d52-be65-22676a8e2c0d"
      },
      "source": [
        "df.head()"
      ],
      "execution_count": 6,
      "outputs": [
        {
          "output_type": "execute_result",
          "data": {
            "text/html": [
              "<div>\n",
              "<style scoped>\n",
              "    .dataframe tbody tr th:only-of-type {\n",
              "        vertical-align: middle;\n",
              "    }\n",
              "\n",
              "    .dataframe tbody tr th {\n",
              "        vertical-align: top;\n",
              "    }\n",
              "\n",
              "    .dataframe thead th {\n",
              "        text-align: right;\n",
              "    }\n",
              "</style>\n",
              "<table border=\"1\" class=\"dataframe\">\n",
              "  <thead>\n",
              "    <tr style=\"text-align: right;\">\n",
              "      <th></th>\n",
              "      <th>v1</th>\n",
              "      <th>v2</th>\n",
              "    </tr>\n",
              "  </thead>\n",
              "  <tbody>\n",
              "    <tr>\n",
              "      <th>0</th>\n",
              "      <td>ham</td>\n",
              "      <td>Go until jurong point, crazy.. Available only ...</td>\n",
              "    </tr>\n",
              "    <tr>\n",
              "      <th>1</th>\n",
              "      <td>ham</td>\n",
              "      <td>Ok lar... Joking wif u oni...</td>\n",
              "    </tr>\n",
              "    <tr>\n",
              "      <th>2</th>\n",
              "      <td>spam</td>\n",
              "      <td>Free entry in 2 a wkly comp to win FA Cup fina...</td>\n",
              "    </tr>\n",
              "    <tr>\n",
              "      <th>3</th>\n",
              "      <td>ham</td>\n",
              "      <td>U dun say so early hor... U c already then say...</td>\n",
              "    </tr>\n",
              "    <tr>\n",
              "      <th>4</th>\n",
              "      <td>ham</td>\n",
              "      <td>Nah I don't think he goes to usf, he lives aro...</td>\n",
              "    </tr>\n",
              "  </tbody>\n",
              "</table>\n",
              "</div>"
            ],
            "text/plain": [
              "     v1                                                 v2\n",
              "0   ham  Go until jurong point, crazy.. Available only ...\n",
              "1   ham                      Ok lar... Joking wif u oni...\n",
              "2  spam  Free entry in 2 a wkly comp to win FA Cup fina...\n",
              "3   ham  U dun say so early hor... U c already then say...\n",
              "4   ham  Nah I don't think he goes to usf, he lives aro..."
            ]
          },
          "metadata": {
            "tags": []
          },
          "execution_count": 6
        }
      ]
    },
    {
      "cell_type": "code",
      "metadata": {
        "id": "l8TeBHZg6tME"
      },
      "source": [
        "# rename columns to something better\n",
        "df.columns = ['labels', 'data']"
      ],
      "execution_count": 7,
      "outputs": []
    },
    {
      "cell_type": "code",
      "metadata": {
        "id": "EcBMS-K96zQl",
        "colab": {
          "base_uri": "https://localhost:8080/",
          "height": 195
        },
        "outputId": "76acc1f6-c3cd-429f-ce86-b0ca1eb16dd0"
      },
      "source": [
        "df.head()"
      ],
      "execution_count": 8,
      "outputs": [
        {
          "output_type": "execute_result",
          "data": {
            "text/html": [
              "<div>\n",
              "<style scoped>\n",
              "    .dataframe tbody tr th:only-of-type {\n",
              "        vertical-align: middle;\n",
              "    }\n",
              "\n",
              "    .dataframe tbody tr th {\n",
              "        vertical-align: top;\n",
              "    }\n",
              "\n",
              "    .dataframe thead th {\n",
              "        text-align: right;\n",
              "    }\n",
              "</style>\n",
              "<table border=\"1\" class=\"dataframe\">\n",
              "  <thead>\n",
              "    <tr style=\"text-align: right;\">\n",
              "      <th></th>\n",
              "      <th>labels</th>\n",
              "      <th>data</th>\n",
              "    </tr>\n",
              "  </thead>\n",
              "  <tbody>\n",
              "    <tr>\n",
              "      <th>0</th>\n",
              "      <td>ham</td>\n",
              "      <td>Go until jurong point, crazy.. Available only ...</td>\n",
              "    </tr>\n",
              "    <tr>\n",
              "      <th>1</th>\n",
              "      <td>ham</td>\n",
              "      <td>Ok lar... Joking wif u oni...</td>\n",
              "    </tr>\n",
              "    <tr>\n",
              "      <th>2</th>\n",
              "      <td>spam</td>\n",
              "      <td>Free entry in 2 a wkly comp to win FA Cup fina...</td>\n",
              "    </tr>\n",
              "    <tr>\n",
              "      <th>3</th>\n",
              "      <td>ham</td>\n",
              "      <td>U dun say so early hor... U c already then say...</td>\n",
              "    </tr>\n",
              "    <tr>\n",
              "      <th>4</th>\n",
              "      <td>ham</td>\n",
              "      <td>Nah I don't think he goes to usf, he lives aro...</td>\n",
              "    </tr>\n",
              "  </tbody>\n",
              "</table>\n",
              "</div>"
            ],
            "text/plain": [
              "  labels                                               data\n",
              "0    ham  Go until jurong point, crazy.. Available only ...\n",
              "1    ham                      Ok lar... Joking wif u oni...\n",
              "2   spam  Free entry in 2 a wkly comp to win FA Cup fina...\n",
              "3    ham  U dun say so early hor... U c already then say...\n",
              "4    ham  Nah I don't think he goes to usf, he lives aro..."
            ]
          },
          "metadata": {
            "tags": []
          },
          "execution_count": 8
        }
      ]
    },
    {
      "cell_type": "code",
      "metadata": {
        "id": "3X81mxd161Wk"
      },
      "source": [
        "# create binary labels\n",
        "df['b_labels'] = df['labels'].map({'ham':0, 'spam':1})"
      ],
      "execution_count": 9,
      "outputs": []
    },
    {
      "cell_type": "code",
      "metadata": {
        "id": "dRqEwIO867ZS"
      },
      "source": [
        "df2 = df[['data', 'b_labels']]"
      ],
      "execution_count": 11,
      "outputs": []
    },
    {
      "cell_type": "code",
      "metadata": {
        "id": "XKa1abUf69Ia",
        "colab": {
          "base_uri": "https://localhost:8080/",
          "height": 195
        },
        "outputId": "52055730-5339-4fb2-ea06-1c16c6fc8225"
      },
      "source": [
        "df2.head()"
      ],
      "execution_count": 12,
      "outputs": [
        {
          "output_type": "execute_result",
          "data": {
            "text/html": [
              "<div>\n",
              "<style scoped>\n",
              "    .dataframe tbody tr th:only-of-type {\n",
              "        vertical-align: middle;\n",
              "    }\n",
              "\n",
              "    .dataframe tbody tr th {\n",
              "        vertical-align: top;\n",
              "    }\n",
              "\n",
              "    .dataframe thead th {\n",
              "        text-align: right;\n",
              "    }\n",
              "</style>\n",
              "<table border=\"1\" class=\"dataframe\">\n",
              "  <thead>\n",
              "    <tr style=\"text-align: right;\">\n",
              "      <th></th>\n",
              "      <th>data</th>\n",
              "      <th>b_labels</th>\n",
              "    </tr>\n",
              "  </thead>\n",
              "  <tbody>\n",
              "    <tr>\n",
              "      <th>0</th>\n",
              "      <td>Go until jurong point, crazy.. Available only ...</td>\n",
              "      <td>0</td>\n",
              "    </tr>\n",
              "    <tr>\n",
              "      <th>1</th>\n",
              "      <td>Ok lar... Joking wif u oni...</td>\n",
              "      <td>0</td>\n",
              "    </tr>\n",
              "    <tr>\n",
              "      <th>2</th>\n",
              "      <td>Free entry in 2 a wkly comp to win FA Cup fina...</td>\n",
              "      <td>1</td>\n",
              "    </tr>\n",
              "    <tr>\n",
              "      <th>3</th>\n",
              "      <td>U dun say so early hor... U c already then say...</td>\n",
              "      <td>0</td>\n",
              "    </tr>\n",
              "    <tr>\n",
              "      <th>4</th>\n",
              "      <td>Nah I don't think he goes to usf, he lives aro...</td>\n",
              "      <td>0</td>\n",
              "    </tr>\n",
              "  </tbody>\n",
              "</table>\n",
              "</div>"
            ],
            "text/plain": [
              "                                                data  b_labels\n",
              "0  Go until jurong point, crazy.. Available only ...         0\n",
              "1                      Ok lar... Joking wif u oni...         0\n",
              "2  Free entry in 2 a wkly comp to win FA Cup fina...         1\n",
              "3  U dun say so early hor... U c already then say...         0\n",
              "4  Nah I don't think he goes to usf, he lives aro...         0"
            ]
          },
          "metadata": {
            "tags": []
          },
          "execution_count": 12
        }
      ]
    },
    {
      "cell_type": "code",
      "metadata": {
        "id": "Frrc1zMU6-0n"
      },
      "source": [
        "df2.to_csv('spam2.csv', index=False)"
      ],
      "execution_count": 13,
      "outputs": []
    },
    {
      "cell_type": "code",
      "metadata": {
        "id": "wsFgSJjZ7Gxu"
      },
      "source": [
        "TEXT = ttd.Field(sequential = True, batch_first = True, lower = False, pad_first = True)\n",
        "LABEL = ttd.Field(sequential = False, use_vocab = False, is_target = True)\n",
        "\n",
        "# Note: if you don't specify use_vocab = False, then Pytorch will complain later when you try \n",
        "# to iterate over the dataset that the attribute 'vocab' doesn't exist.\n",
        "\n",
        "# Note 2: if you don't specify is_target = True, then Pytorch will assume it's part of the input,\n",
        "# so when you iterate over the dataset it will be like:\n",
        "# for (inputs, targets), _ in iterator:\n",
        "# where the 2nd element (_) should have been the target.\n",
        "\n",
        "dataset = ttd.TabularDataset(\n",
        "    path = 'spam2.csv',\n",
        "    format = 'csv',\n",
        "    skip_header = True,\n",
        "    fields = [('data', TEXT), ('label', LABEL)]\n",
        ")"
      ],
      "execution_count": 14,
      "outputs": []
    },
    {
      "cell_type": "code",
      "metadata": {
        "id": "BkhEExLN7f0t"
      },
      "source": [
        "train_dataset, test_dataset = dataset.split()  # default is 0.7"
      ],
      "execution_count": 15,
      "outputs": []
    },
    {
      "cell_type": "code",
      "metadata": {
        "id": "1wkuvfdP7j2Y"
      },
      "source": [
        "TEXT.build_vocab(train_dataset)"
      ],
      "execution_count": 16,
      "outputs": []
    },
    {
      "cell_type": "code",
      "metadata": {
        "id": "tk0Bx58H7nRw"
      },
      "source": [
        "vocab = TEXT.vocab"
      ],
      "execution_count": 17,
      "outputs": []
    },
    {
      "cell_type": "code",
      "metadata": {
        "id": "-VP3Gqfz7p1x",
        "colab": {
          "base_uri": "https://localhost:8080/"
        },
        "outputId": "8de86c03-d6de-434a-c193-2a79469c5d05"
      },
      "source": [
        "device = torch.device(\"cuda:0\" if torch.cuda.is_available() else \"cpu\")\n",
        "print(device)"
      ],
      "execution_count": 18,
      "outputs": [
        {
          "output_type": "stream",
          "text": [
            "cuda:0\n"
          ],
          "name": "stdout"
        }
      ]
    },
    {
      "cell_type": "code",
      "metadata": {
        "id": "3KU_g8jf7tCs"
      },
      "source": [
        "train_iter, test_iter = ttd.Iterator.splits(\n",
        "    (train_dataset, test_dataset), sort_key = lambda x: len(x.data),\n",
        "    batch_sizes = (32,256), device = device)"
      ],
      "execution_count": 19,
      "outputs": []
    },
    {
      "cell_type": "code",
      "metadata": {
        "id": "wmlr1T6V7-Mn",
        "colab": {
          "base_uri": "https://localhost:8080/"
        },
        "outputId": "b5540490-b6f8-45ef-b23e-77297bec75da"
      },
      "source": [
        "# What is the shape of embedding output?\n",
        "# N x T x D\n",
        "embed = nn.Embedding(len(vocab), 20).to(device)\n",
        "for inputs, targets in train_iter:\n",
        "  out = embed(inputs)\n",
        "  print(\"input shape:\", inputs.shape, \"output shape:\", out.shape)\n",
        "  break"
      ],
      "execution_count": 20,
      "outputs": [
        {
          "output_type": "stream",
          "text": [
            "input shape: torch.Size([32, 56]) output shape: torch.Size([32, 56, 20])\n"
          ],
          "name": "stdout"
        }
      ]
    },
    {
      "cell_type": "code",
      "metadata": {
        "id": "OMrc9C1U_YEx"
      },
      "source": [
        "# Define the model\n",
        "class CNN(nn.Module):\n",
        "  def __init__(self, n_vocab, embed_dim, n_outputs):\n",
        "    super(CNN, self).__init__()\n",
        "    self.V = n_vocab\n",
        "    self.D = embed_dim\n",
        "    self.K = n_outputs\n",
        "\n",
        "    # if input is T words\n",
        "    # then output is (T, D) matrix\n",
        "    self.embed = nn.Embedding(self.V, self.D)\n",
        "\n",
        "    # define the conv layers\n",
        "    self.conv1 = nn.Conv1d(in_channels=self.D, out_channels=32, kernel_size=3, padding=1)\n",
        "    self.pool1 = nn.MaxPool1d(2)\n",
        "    self.conv2 = nn.Conv1d(in_channels=32, out_channels=64, kernel_size=3, padding=1)\n",
        "    self.pool2 = nn.MaxPool1d(2)\n",
        "    self.conv3 = nn.Conv1d(in_channels=64, out_channels=128, kernel_size=3, padding=1)\n",
        "\n",
        "    self.fc = nn.Linear(128, self.K)\n",
        "\n",
        "  def forward(self, X):\n",
        "    # embedding layer\n",
        "    # turns word indexes into word vectors\n",
        "    out = self.embed(X)\n",
        "\n",
        "    # note: output of embedding is always\n",
        "    # (N, T, D)\n",
        "    # conv1d expects\n",
        "    # (N, D, T)\n",
        "\n",
        "    # conv layers\n",
        "    out = out.permute(0,2,1)\n",
        "    out = self.conv1(out)\n",
        "    out = F.relu(out)\n",
        "    out = self.pool1(out)\n",
        "    out = self.conv2(out)\n",
        "    out = F.relu(out)\n",
        "    out = self.pool2(out)\n",
        "    out = self.conv3(out)\n",
        "    out = F.relu(out)\n",
        "\n",
        "    # change it back\n",
        "    out = out.permute(0,2,1)\n",
        "\n",
        "    # max pool\n",
        "    out, _ = torch.max(out, 1)\n",
        "\n",
        "    # final dense layer\n",
        "    out = self.fc(out)\n",
        "    return out"
      ],
      "execution_count": 31,
      "outputs": []
    },
    {
      "cell_type": "code",
      "metadata": {
        "id": "RRX1c_gKsi9D",
        "outputId": "4cbe7d30-3328-4c4a-f54a-8b64854f147c",
        "colab": {
          "base_uri": "https://localhost:8080/"
        }
      },
      "source": [
        "model = CNN(len(vocab), 20, 1)\n",
        "model.to(device)"
      ],
      "execution_count": 32,
      "outputs": [
        {
          "output_type": "execute_result",
          "data": {
            "text/plain": [
              "CNN(\n",
              "  (embed): Embedding(12553, 20)\n",
              "  (conv1): Conv1d(20, 32, kernel_size=(3,), stride=(1,), padding=(1,))\n",
              "  (pool1): MaxPool1d(kernel_size=2, stride=2, padding=0, dilation=1, ceil_mode=False)\n",
              "  (conv2): Conv1d(32, 64, kernel_size=(3,), stride=(1,), padding=(1,))\n",
              "  (pool2): MaxPool1d(kernel_size=2, stride=2, padding=0, dilation=1, ceil_mode=False)\n",
              "  (conv3): Conv1d(64, 128, kernel_size=(3,), stride=(1,), padding=(1,))\n",
              "  (fc): Linear(in_features=128, out_features=1, bias=True)\n",
              ")"
            ]
          },
          "metadata": {
            "tags": []
          },
          "execution_count": 32
        }
      ]
    },
    {
      "cell_type": "code",
      "metadata": {
        "id": "hZdxkJpasn71"
      },
      "source": [
        "criterion = nn.BCEWithLogitsLoss()\n",
        "optimizer = torch.optim.Adam(model.parameters())"
      ],
      "execution_count": 33,
      "outputs": []
    },
    {
      "cell_type": "code",
      "metadata": {
        "id": "6kBSk6GIs_ME"
      },
      "source": [
        "# A function to encapsulate the training loop\n",
        "def batch_gd(model, criterion, optimizer, train_iter, test_iter, epochs):\n",
        "\n",
        "  train_losses = np.zeros(epochs)\n",
        "  test_losses = np.zeros(epochs)\n",
        "\n",
        "  for it in range(epochs):\n",
        "    t0 = datetime.now()\n",
        "    train_loss = []\n",
        "    for inputs, targets in train_iter:\n",
        "      # print(\"inputs.shape:\", inputs.shape, \"targets.shape:\", targets.shape)\n",
        "      # move data to GPU  \n",
        "      # inputs, targets = inputs.to(device), targets.to(device)\n",
        "      targets = targets.view(-1, 1).float()\n",
        "\n",
        "      # zero the parameter gradients\n",
        "      optimizer.zero_grad()\n",
        "\n",
        "      # Forward pass\n",
        "      outputs = model(inputs)\n",
        "      loss = criterion(outputs, targets)\n",
        "\n",
        "      # Backward and optimize\n",
        "      loss.backward()\n",
        "      optimizer.step()\n",
        "\n",
        "      train_loss.append(loss.item())\n",
        "      \n",
        "    # Get train loss and test loss\n",
        "    train_loss = np.mean(train_loss)   # a little misleading\n",
        "\n",
        "    test_loss = []\n",
        "    for inputs, targets in test_iter:\n",
        "      #inputs, targets = inputs.to(device), targets.to(device)\n",
        "      targets = targets.view(-1,1).float()\n",
        "      outputs = model(inputs)\n",
        "      loss = criterion(outputs, targets)\n",
        "      test_loss.append(loss.item())\n",
        "    test_loss = np.mean(test_loss)\n",
        "\n",
        "    # Save losses\n",
        "    train_losses[it] = train_loss\n",
        "    test_losses[it] = test_loss\n",
        "\n",
        "    dt = datetime.now() - t0      \n",
        "    print(f'Epoch {it+1}/{epochs}, Train Loss: {train_loss:.4f}, Test Loss: {test_loss:.4f}, Duration: {dt}')\n",
        "  \n",
        "  return train_losses, test_losses"
      ],
      "execution_count": 34,
      "outputs": []
    },
    {
      "cell_type": "code",
      "metadata": {
        "id": "9exkTToztLmD",
        "outputId": "91368421-a785-40e3-a19f-3adfc4a5abc3",
        "colab": {
          "base_uri": "https://localhost:8080/"
        }
      },
      "source": [
        "train_losses, test_losses = batch_gd(\n",
        "    model, criterion, optimizer, train_iter, test_iter, 8)"
      ],
      "execution_count": 37,
      "outputs": [
        {
          "output_type": "stream",
          "text": [
            "Epoch 1/15, Train Loss: 0.0211, Test Loss: 0.1087, Duration: 0:00:00.421729\n",
            "Epoch 2/15, Train Loss: 0.0110, Test Loss: 0.1310, Duration: 0:00:00.407695\n",
            "Epoch 3/15, Train Loss: 0.0075, Test Loss: 0.1517, Duration: 0:00:00.401516\n",
            "Epoch 4/15, Train Loss: 0.0058, Test Loss: 0.1558, Duration: 0:00:00.400136\n",
            "Epoch 5/15, Train Loss: 0.0059, Test Loss: 0.1250, Duration: 0:00:00.405066\n",
            "Epoch 6/15, Train Loss: 0.0030, Test Loss: 0.1248, Duration: 0:00:00.406870\n",
            "Epoch 7/15, Train Loss: 0.0023, Test Loss: 0.1408, Duration: 0:00:00.406332\n",
            "Epoch 8/15, Train Loss: 0.0015, Test Loss: 0.1526, Duration: 0:00:00.399650\n",
            "Epoch 9/15, Train Loss: 0.0010, Test Loss: 0.1515, Duration: 0:00:00.404904\n",
            "Epoch 10/15, Train Loss: 0.0014, Test Loss: 0.1404, Duration: 0:00:00.402447\n",
            "Epoch 11/15, Train Loss: 0.0006, Test Loss: 0.1841, Duration: 0:00:00.410557\n",
            "Epoch 12/15, Train Loss: 0.0005, Test Loss: 0.1631, Duration: 0:00:00.405533\n",
            "Epoch 13/15, Train Loss: 0.0003, Test Loss: 0.1612, Duration: 0:00:00.396716\n",
            "Epoch 14/15, Train Loss: 0.0002, Test Loss: 0.1679, Duration: 0:00:00.392797\n",
            "Epoch 15/15, Train Loss: 0.0002, Test Loss: 0.1674, Duration: 0:00:00.394546\n"
          ],
          "name": "stdout"
        }
      ]
    },
    {
      "cell_type": "code",
      "metadata": {
        "id": "5alCo609tQ7x",
        "outputId": "2b04297e-99e7-4e2a-d06e-8861b3ca2306",
        "colab": {
          "base_uri": "https://localhost:8080/",
          "height": 265
        }
      },
      "source": [
        "# Plot the train loss and test loss per iteration\n",
        "plt.plot(train_losses, label='train loss')\n",
        "plt.plot(test_losses, label='test loss')\n",
        "plt.legend()\n",
        "plt.show()"
      ],
      "execution_count": 36,
      "outputs": [
        {
          "output_type": "display_data",
          "data": {
            "image/png": "[encoded data removed]",
            "text/plain": [
              "<Figure size 432x288 with 1 Axes>"
            ]
          },
          "metadata": {
            "tags": [],
            "needs_background": "light"
          }
        }
      ]
    },
    {
      "cell_type": "code",
      "metadata": {
        "id": "_whUDQRftlGf",
        "outputId": "951f6a41-cc57-40c1-a7f7-aba18b1a5504",
        "colab": {
          "base_uri": "https://localhost:8080/"
        }
      },
      "source": [
        "# Accuracy\n",
        "\n",
        "n_correct = 0.\n",
        "n_total = 0.\n",
        "for inputs, targets in train_iter:\n",
        "    targets = targets.view(-1, 1).float()\n",
        "    \n",
        "    # Forward pass\n",
        "    outputs = model(inputs)\n",
        "    #print(outputs.shape)\n",
        "    \n",
        "    # Get prediction\n",
        "    predictions = (outputs > 0)\n",
        "    # print(_, predictions)\n",
        "    \n",
        "    # update counts\n",
        "    n_correct += (predictions == targets).sum().item()   # item : sum까지만 하면 출력이 tensor로 표현되므로 합산만 뽑아냄\n",
        "    n_total += targets.shape[0]\n",
        "    \n",
        "train_acc = n_correct / n_total\n",
        "\n",
        "\n",
        "n_correct = 0.\n",
        "n_total = 0.\n",
        "for inputs, targets in test_iter:\n",
        "    targets = targets.view(-1, 1).float()\n",
        "\n",
        "    # Forward pass\n",
        "    outputs = model(inputs)\n",
        "    \n",
        "    # Get prediction\n",
        "    predictions = (outputs > 0)\n",
        "    \n",
        "    # update counts\n",
        "    n_correct += (predictions == targets).sum().item()   # item : sum까지만 하면 출력이 tensor로 표현되므로 합산만 뽑아냄\n",
        "    n_total += targets.shape[0]\n",
        "    \n",
        "test_acc = n_correct / n_total\n",
        "print(f'Train acc: {train_acc:.4f}, Test acc: {test_acc:.4f}')"
      ],
      "execution_count": 38,
      "outputs": [
        {
          "output_type": "stream",
          "text": [
            "Train acc: 1.0000, Test acc: 0.9659\n"
          ],
          "name": "stdout"
        }
      ]
    },
    {
      "cell_type": "code",
      "metadata": {
        "id": "x9vTLIjzvF8f"
      },
      "source": [
        ""
      ],
      "execution_count": null,
      "outputs": []
    }
  ]
}