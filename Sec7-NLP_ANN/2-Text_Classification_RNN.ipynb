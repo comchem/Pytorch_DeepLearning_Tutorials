{
  "nbformat": 4,
  "nbformat_minor": 0,
  "metadata": {
    "kernelspec": {
      "display_name": "Python 3",
      "language": "python",
      "name": "python3"
    },
    "language_info": {
      "codemirror_mode": {
        "name": "ipython",
        "version": 3
      },
      "file_extension": ".py",
      "mimetype": "text/x-python",
      "name": "python",
      "nbconvert_exporter": "python",
      "pygments_lexer": "ipython3",
      "version": "3.8.5"
    },
    "colab": {
      "name": "2-Text_Classification_RNN.ipynb",
      "provenance": [],
      "include_colab_link": true
    },
    "accelerator": "GPU"
  },
  "cells": [
    {
      "cell_type": "markdown",
      "metadata": {
        "id": "view-in-github",
        "colab_type": "text"
      },
      "source": [
        "<a href=\"https://colab.research.google.com/github/comchem/Pytorch_DeepLearning_Tutorials/blob/master/Sec7-NLP_ANN/2-Text_Classification_RNN.ipynb\" target=\"_parent\"><img src=\"https://colab.research.google.com/assets/colab-badge.svg\" alt=\"Open In Colab\"/></a>"
      ]
    },
    {
      "cell_type": "code",
      "metadata": {
        "id": "9q3kOhvZIoLX"
      },
      "source": [
        "import torch\n",
        "import torch.nn as nn\n",
        "import torchtext.legacy.data as ttd\n",
        "from torchtext.vocab import GloVe\n",
        "import numpy as np\n",
        "import pandas as pd\n",
        "import matplotlib.pyplot as plt\n",
        "from datetime import datetime"
      ],
      "execution_count": 4,
      "outputs": []
    },
    {
      "cell_type": "code",
      "metadata": {
        "id": "HpdanS-3JzBN",
        "colab": {
          "base_uri": "https://localhost:8080/"
        },
        "outputId": "447f8c3f-8552-4975-f032-263bcbc0235d"
      },
      "source": [
        "!git clone https://github.com/comchem/Pytorch_DeepLearning_Tutorials.git"
      ],
      "execution_count": 5,
      "outputs": [
        {
          "output_type": "stream",
          "text": [
            "fatal: destination path 'Pytorch_DeepLearning_Tutorials' already exists and is not an empty directory.\n"
          ],
          "name": "stdout"
        }
      ]
    },
    {
      "cell_type": "code",
      "metadata": {
        "id": "80iDlhmEKN3x"
      },
      "source": [
        "path = './Pytorch_DeepLearning_Tutorials/data/spam.csv'\n",
        "df = pd.read_csv(path, encoding='ISO-8859-1')"
      ],
      "execution_count": 6,
      "outputs": []
    },
    {
      "cell_type": "code",
      "metadata": {
        "id": "h2mzOzzWKwFU",
        "colab": {
          "base_uri": "https://localhost:8080/",
          "height": 195
        },
        "outputId": "d21d46e9-f6cc-4886-e176-df8dc3b35042"
      },
      "source": [
        "df.head()"
      ],
      "execution_count": 7,
      "outputs": [
        {
          "output_type": "execute_result",
          "data": {
            "text/html": [
              "<div>\n",
              "<style scoped>\n",
              "    .dataframe tbody tr th:only-of-type {\n",
              "        vertical-align: middle;\n",
              "    }\n",
              "\n",
              "    .dataframe tbody tr th {\n",
              "        vertical-align: top;\n",
              "    }\n",
              "\n",
              "    .dataframe thead th {\n",
              "        text-align: right;\n",
              "    }\n",
              "</style>\n",
              "<table border=\"1\" class=\"dataframe\">\n",
              "  <thead>\n",
              "    <tr style=\"text-align: right;\">\n",
              "      <th></th>\n",
              "      <th>v1</th>\n",
              "      <th>v2</th>\n",
              "      <th>Unnamed: 2</th>\n",
              "      <th>Unnamed: 3</th>\n",
              "      <th>Unnamed: 4</th>\n",
              "    </tr>\n",
              "  </thead>\n",
              "  <tbody>\n",
              "    <tr>\n",
              "      <th>0</th>\n",
              "      <td>ham</td>\n",
              "      <td>Go until jurong point, crazy.. Available only ...</td>\n",
              "      <td>NaN</td>\n",
              "      <td>NaN</td>\n",
              "      <td>NaN</td>\n",
              "    </tr>\n",
              "    <tr>\n",
              "      <th>1</th>\n",
              "      <td>ham</td>\n",
              "      <td>Ok lar... Joking wif u oni...</td>\n",
              "      <td>NaN</td>\n",
              "      <td>NaN</td>\n",
              "      <td>NaN</td>\n",
              "    </tr>\n",
              "    <tr>\n",
              "      <th>2</th>\n",
              "      <td>spam</td>\n",
              "      <td>Free entry in 2 a wkly comp to win FA Cup fina...</td>\n",
              "      <td>NaN</td>\n",
              "      <td>NaN</td>\n",
              "      <td>NaN</td>\n",
              "    </tr>\n",
              "    <tr>\n",
              "      <th>3</th>\n",
              "      <td>ham</td>\n",
              "      <td>U dun say so early hor... U c already then say...</td>\n",
              "      <td>NaN</td>\n",
              "      <td>NaN</td>\n",
              "      <td>NaN</td>\n",
              "    </tr>\n",
              "    <tr>\n",
              "      <th>4</th>\n",
              "      <td>ham</td>\n",
              "      <td>Nah I don't think he goes to usf, he lives aro...</td>\n",
              "      <td>NaN</td>\n",
              "      <td>NaN</td>\n",
              "      <td>NaN</td>\n",
              "    </tr>\n",
              "  </tbody>\n",
              "</table>\n",
              "</div>"
            ],
            "text/plain": [
              "     v1  ... Unnamed: 4\n",
              "0   ham  ...        NaN\n",
              "1   ham  ...        NaN\n",
              "2  spam  ...        NaN\n",
              "3   ham  ...        NaN\n",
              "4   ham  ...        NaN\n",
              "\n",
              "[5 rows x 5 columns]"
            ]
          },
          "metadata": {
            "tags": []
          },
          "execution_count": 7
        }
      ]
    },
    {
      "cell_type": "code",
      "metadata": {
        "id": "_W2XFPoNKxc_"
      },
      "source": [
        "# drop unnecessary columns\n",
        "df = df.drop([\"Unnamed: 2\", \"Unnamed: 3\", \"Unnamed: 4\"], axis=1)"
      ],
      "execution_count": 8,
      "outputs": []
    },
    {
      "cell_type": "code",
      "metadata": {
        "colab": {
          "base_uri": "https://localhost:8080/",
          "height": 195
        },
        "id": "j54e_rWRm3Eq",
        "outputId": "243b49dc-4b08-4e94-822c-ae1fc77dd267"
      },
      "source": [
        "df.head()"
      ],
      "execution_count": 9,
      "outputs": [
        {
          "output_type": "execute_result",
          "data": {
            "text/html": [
              "<div>\n",
              "<style scoped>\n",
              "    .dataframe tbody tr th:only-of-type {\n",
              "        vertical-align: middle;\n",
              "    }\n",
              "\n",
              "    .dataframe tbody tr th {\n",
              "        vertical-align: top;\n",
              "    }\n",
              "\n",
              "    .dataframe thead th {\n",
              "        text-align: right;\n",
              "    }\n",
              "</style>\n",
              "<table border=\"1\" class=\"dataframe\">\n",
              "  <thead>\n",
              "    <tr style=\"text-align: right;\">\n",
              "      <th></th>\n",
              "      <th>v1</th>\n",
              "      <th>v2</th>\n",
              "    </tr>\n",
              "  </thead>\n",
              "  <tbody>\n",
              "    <tr>\n",
              "      <th>0</th>\n",
              "      <td>ham</td>\n",
              "      <td>Go until jurong point, crazy.. Available only ...</td>\n",
              "    </tr>\n",
              "    <tr>\n",
              "      <th>1</th>\n",
              "      <td>ham</td>\n",
              "      <td>Ok lar... Joking wif u oni...</td>\n",
              "    </tr>\n",
              "    <tr>\n",
              "      <th>2</th>\n",
              "      <td>spam</td>\n",
              "      <td>Free entry in 2 a wkly comp to win FA Cup fina...</td>\n",
              "    </tr>\n",
              "    <tr>\n",
              "      <th>3</th>\n",
              "      <td>ham</td>\n",
              "      <td>U dun say so early hor... U c already then say...</td>\n",
              "    </tr>\n",
              "    <tr>\n",
              "      <th>4</th>\n",
              "      <td>ham</td>\n",
              "      <td>Nah I don't think he goes to usf, he lives aro...</td>\n",
              "    </tr>\n",
              "  </tbody>\n",
              "</table>\n",
              "</div>"
            ],
            "text/plain": [
              "     v1                                                 v2\n",
              "0   ham  Go until jurong point, crazy.. Available only ...\n",
              "1   ham                      Ok lar... Joking wif u oni...\n",
              "2  spam  Free entry in 2 a wkly comp to win FA Cup fina...\n",
              "3   ham  U dun say so early hor... U c already then say...\n",
              "4   ham  Nah I don't think he goes to usf, he lives aro..."
            ]
          },
          "metadata": {
            "tags": []
          },
          "execution_count": 9
        }
      ]
    },
    {
      "cell_type": "code",
      "metadata": {
        "id": "myIcht7im73M"
      },
      "source": [
        "# rename columns to something better\n",
        "df.columns = ['labels', 'data']"
      ],
      "execution_count": 10,
      "outputs": []
    },
    {
      "cell_type": "code",
      "metadata": {
        "colab": {
          "base_uri": "https://localhost:8080/",
          "height": 195
        },
        "id": "b4dVtSe_nEKH",
        "outputId": "1c21122c-9b2d-478d-9857-16078e382db7"
      },
      "source": [
        "df.head()"
      ],
      "execution_count": 11,
      "outputs": [
        {
          "output_type": "execute_result",
          "data": {
            "text/html": [
              "<div>\n",
              "<style scoped>\n",
              "    .dataframe tbody tr th:only-of-type {\n",
              "        vertical-align: middle;\n",
              "    }\n",
              "\n",
              "    .dataframe tbody tr th {\n",
              "        vertical-align: top;\n",
              "    }\n",
              "\n",
              "    .dataframe thead th {\n",
              "        text-align: right;\n",
              "    }\n",
              "</style>\n",
              "<table border=\"1\" class=\"dataframe\">\n",
              "  <thead>\n",
              "    <tr style=\"text-align: right;\">\n",
              "      <th></th>\n",
              "      <th>labels</th>\n",
              "      <th>data</th>\n",
              "    </tr>\n",
              "  </thead>\n",
              "  <tbody>\n",
              "    <tr>\n",
              "      <th>0</th>\n",
              "      <td>ham</td>\n",
              "      <td>Go until jurong point, crazy.. Available only ...</td>\n",
              "    </tr>\n",
              "    <tr>\n",
              "      <th>1</th>\n",
              "      <td>ham</td>\n",
              "      <td>Ok lar... Joking wif u oni...</td>\n",
              "    </tr>\n",
              "    <tr>\n",
              "      <th>2</th>\n",
              "      <td>spam</td>\n",
              "      <td>Free entry in 2 a wkly comp to win FA Cup fina...</td>\n",
              "    </tr>\n",
              "    <tr>\n",
              "      <th>3</th>\n",
              "      <td>ham</td>\n",
              "      <td>U dun say so early hor... U c already then say...</td>\n",
              "    </tr>\n",
              "    <tr>\n",
              "      <th>4</th>\n",
              "      <td>ham</td>\n",
              "      <td>Nah I don't think he goes to usf, he lives aro...</td>\n",
              "    </tr>\n",
              "  </tbody>\n",
              "</table>\n",
              "</div>"
            ],
            "text/plain": [
              "  labels                                               data\n",
              "0    ham  Go until jurong point, crazy.. Available only ...\n",
              "1    ham                      Ok lar... Joking wif u oni...\n",
              "2   spam  Free entry in 2 a wkly comp to win FA Cup fina...\n",
              "3    ham  U dun say so early hor... U c already then say...\n",
              "4    ham  Nah I don't think he goes to usf, he lives aro..."
            ]
          },
          "metadata": {
            "tags": []
          },
          "execution_count": 11
        }
      ]
    },
    {
      "cell_type": "code",
      "metadata": {
        "id": "-vHmS7cPnFH5"
      },
      "source": [
        "# create binary labels\n",
        "df['b_labels'] = df['labels'].map({'ham':0, 'spam':1})"
      ],
      "execution_count": 12,
      "outputs": []
    },
    {
      "cell_type": "code",
      "metadata": {
        "id": "eHoUgHFYnbJH"
      },
      "source": [
        "df2 = df[['data', 'b_labels']]"
      ],
      "execution_count": 13,
      "outputs": []
    },
    {
      "cell_type": "code",
      "metadata": {
        "colab": {
          "base_uri": "https://localhost:8080/",
          "height": 195
        },
        "id": "pNbmUXfNnfdU",
        "outputId": "e2da53c3-060f-40db-f338-b02e2e29930f"
      },
      "source": [
        "df2.head()"
      ],
      "execution_count": 14,
      "outputs": [
        {
          "output_type": "execute_result",
          "data": {
            "text/html": [
              "<div>\n",
              "<style scoped>\n",
              "    .dataframe tbody tr th:only-of-type {\n",
              "        vertical-align: middle;\n",
              "    }\n",
              "\n",
              "    .dataframe tbody tr th {\n",
              "        vertical-align: top;\n",
              "    }\n",
              "\n",
              "    .dataframe thead th {\n",
              "        text-align: right;\n",
              "    }\n",
              "</style>\n",
              "<table border=\"1\" class=\"dataframe\">\n",
              "  <thead>\n",
              "    <tr style=\"text-align: right;\">\n",
              "      <th></th>\n",
              "      <th>data</th>\n",
              "      <th>b_labels</th>\n",
              "    </tr>\n",
              "  </thead>\n",
              "  <tbody>\n",
              "    <tr>\n",
              "      <th>0</th>\n",
              "      <td>Go until jurong point, crazy.. Available only ...</td>\n",
              "      <td>0</td>\n",
              "    </tr>\n",
              "    <tr>\n",
              "      <th>1</th>\n",
              "      <td>Ok lar... Joking wif u oni...</td>\n",
              "      <td>0</td>\n",
              "    </tr>\n",
              "    <tr>\n",
              "      <th>2</th>\n",
              "      <td>Free entry in 2 a wkly comp to win FA Cup fina...</td>\n",
              "      <td>1</td>\n",
              "    </tr>\n",
              "    <tr>\n",
              "      <th>3</th>\n",
              "      <td>U dun say so early hor... U c already then say...</td>\n",
              "      <td>0</td>\n",
              "    </tr>\n",
              "    <tr>\n",
              "      <th>4</th>\n",
              "      <td>Nah I don't think he goes to usf, he lives aro...</td>\n",
              "      <td>0</td>\n",
              "    </tr>\n",
              "  </tbody>\n",
              "</table>\n",
              "</div>"
            ],
            "text/plain": [
              "                                                data  b_labels\n",
              "0  Go until jurong point, crazy.. Available only ...         0\n",
              "1                      Ok lar... Joking wif u oni...         0\n",
              "2  Free entry in 2 a wkly comp to win FA Cup fina...         1\n",
              "3  U dun say so early hor... U c already then say...         0\n",
              "4  Nah I don't think he goes to usf, he lives aro...         0"
            ]
          },
          "metadata": {
            "tags": []
          },
          "execution_count": 14
        }
      ]
    },
    {
      "cell_type": "code",
      "metadata": {
        "id": "9CN-pNuDng-j"
      },
      "source": [
        "df2.to_csv('spam2.csv', index=False)"
      ],
      "execution_count": 15,
      "outputs": []
    },
    {
      "cell_type": "code",
      "metadata": {
        "id": "fto7ezSVnuHp"
      },
      "source": [
        "TEXT = ttd.Field(\n",
        "    sequential = True,\n",
        "    batch_first = True,\n",
        "    lower = True,\n",
        "    # tokenize = 'spacy',\n",
        "    pad_first = True\n",
        ")\n",
        "LABEL = ttd.Field(sequential = False, use_vocab = False, is_target = True)\n",
        "\n",
        "# Note: if you don't specify use_vocab = False, then Pytorch will complain later when you try \n",
        "# to iterate over the dataset that the attribute 'vocab' doesn't exist.\n",
        "\n",
        "# Note 2: if you don't specify is_target = True, then Pytorch will assume it's part of the input,\n",
        "# so when you iterate over the dataset it will be like:\n",
        "# for (inputs, targets), _ in iterator:\n",
        "# where the 2nd element (_) should have been the target.\n",
        "\n",
        "dataset = ttd.TabularDataset(\n",
        "    path = 'spam2.csv',\n",
        "    format = 'csv',\n",
        "    skip_header = True,\n",
        "    fields = [('data', TEXT), ('label', LABEL)]\n",
        ")"
      ],
      "execution_count": 16,
      "outputs": []
    },
    {
      "cell_type": "code",
      "metadata": {
        "id": "ZMw9CxrHoseE"
      },
      "source": [
        "\n",
        "train_dataset, test_dataset = dataset.split()  # default is 0.7 "
      ],
      "execution_count": 17,
      "outputs": []
    },
    {
      "cell_type": "code",
      "metadata": {
        "id": "mkApo-Tso0zC"
      },
      "source": [
        "TEXT.build_vocab(train_dataset)"
      ],
      "execution_count": 18,
      "outputs": []
    },
    {
      "cell_type": "code",
      "metadata": {
        "colab": {
          "base_uri": "https://localhost:8080/"
        },
        "id": "F1I_ifrTo1b8",
        "outputId": "beb1b6c0-f9a1-4c8c-a5f6-d206a72d2f85"
      },
      "source": [
        "vocab = TEXT.vocab\n",
        "type(vocab)"
      ],
      "execution_count": 19,
      "outputs": [
        {
          "output_type": "execute_result",
          "data": {
            "text/plain": [
              "torchtext.vocab.Vocab"
            ]
          },
          "metadata": {
            "tags": []
          },
          "execution_count": 19
        }
      ]
    },
    {
      "cell_type": "code",
      "metadata": {
        "id": "P2ffP57Eo1Y6"
      },
      "source": [
        "#vocab.stoi"
      ],
      "execution_count": 20,
      "outputs": []
    },
    {
      "cell_type": "code",
      "metadata": {
        "id": "rcF6zxG3pXpq"
      },
      "source": [
        "#vocab.itos"
      ],
      "execution_count": 21,
      "outputs": []
    },
    {
      "cell_type": "code",
      "metadata": {
        "colab": {
          "base_uri": "https://localhost:8080/"
        },
        "id": "UqTDSbgFpcBx",
        "outputId": "3ee32a7d-13dd-4083-ed1a-b4c5d3fb270a"
      },
      "source": [
        "# Set device\n",
        "device = torch.device(\"cuda:0\" if torch.cuda.is_available() else \"cpu\")\n",
        "print(device)"
      ],
      "execution_count": 22,
      "outputs": [
        {
          "output_type": "stream",
          "text": [
            "cuda:0\n"
          ],
          "name": "stdout"
        }
      ]
    },
    {
      "cell_type": "code",
      "metadata": {
        "id": "QcrivBhxpim9"
      },
      "source": [
        "train_iter, test_iter = ttd.Iterator.splits(\n",
        "    (train_dataset, test_dataset), sort_key = lambda x: len(x.data),\n",
        "    batch_sizes = (2,2), device = device\n",
        ")"
      ],
      "execution_count": 23,
      "outputs": []
    },
    {
      "cell_type": "code",
      "metadata": {
        "colab": {
          "base_uri": "https://localhost:8080/"
        },
        "id": "RwFXDNZSpl-N",
        "outputId": "e724f4ef-831b-40d6-bd2d-149e43992689"
      },
      "source": [
        "for inputs, targets in train_iter:\n",
        "  print(\"inputs:\", inputs, \"shape:\", inputs.shape)\n",
        "  print(\"targets:\", targets, \"shape:\", targets.shape)\n",
        "  break"
      ],
      "execution_count": 24,
      "outputs": [
        {
          "output_type": "stream",
          "text": [
            "inputs: tensor([[1162,  109,    4,   18,   14,   37,   48,  652],\n",
            "        [   1,    1,    1,  984,   42, 3020,    4, 1412]], device='cuda:0') shape: torch.Size([2, 8])\n",
            "targets: tensor([0, 0], device='cuda:0') shape: torch.Size([2])\n"
          ],
          "name": "stdout"
        }
      ]
    },
    {
      "cell_type": "code",
      "metadata": {
        "colab": {
          "base_uri": "https://localhost:8080/"
        },
        "id": "fr5UkitLpp1C",
        "outputId": "c37ccca9-f8e6-448d-f683-ca1718628e88"
      },
      "source": [
        "for inputs, targets in test_iter:\n",
        "  print(\"inputs:\", inputs, \"shape:\", inputs.shape)\n",
        "  print(\"targets:\", targets, \"shape:\", targets.shape)\n",
        "  break"
      ],
      "execution_count": 25,
      "outputs": [
        {
          "output_type": "stream",
          "text": [
            "inputs: tensor([[267],\n",
            "        [267]], device='cuda:0') shape: torch.Size([2, 1])\n",
            "targets: tensor([0, 0], device='cuda:0') shape: torch.Size([2])\n"
          ],
          "name": "stdout"
        }
      ]
    },
    {
      "cell_type": "code",
      "metadata": {
        "colab": {
          "base_uri": "https://localhost:8080/"
        },
        "id": "uZc-24GVu_nK",
        "outputId": "ad24f413-7cf3-4d93-be81-833f11ed5032"
      },
      "source": [
        "len(vocab)"
      ],
      "execution_count": 26,
      "outputs": [
        {
          "output_type": "execute_result",
          "data": {
            "text/plain": [
              "10840"
            ]
          },
          "metadata": {
            "tags": []
          },
          "execution_count": 26
        }
      ]
    },
    {
      "cell_type": "code",
      "metadata": {
        "id": "mPMVe64qqCNG"
      },
      "source": [
        "### Define the model\n",
        "class RNN(nn.Module):\n",
        "    def __init__(self, n_vocab, embed_dim, n_hidden, n_rnnlayers, n_outputs):\n",
        "        super(RNN, self).__init__()\n",
        "        self.V = n_vocab\n",
        "        self.D = embed_dim    # Pretrained vectors\n",
        "        self.M = n_hidden\n",
        "        self.K = n_outputs\n",
        "        self.L = n_rnnlayers\n",
        "        \n",
        "        self.embed = nn.Embedding(self.V, self.D)\n",
        "        self.rnn = nn.LSTM(\n",
        "          input_size = self.D,\n",
        "          hidden_size = self.M,\n",
        "          num_layers = self.L,\n",
        "          batch_first = True)\n",
        "        self.fc = nn.Linear(self.M, self.K)\n",
        "    \n",
        "    def forward(self, X):\n",
        "        # initial hidden states\n",
        "        h0 = torch.zeros(self.L, X.size(0), self.M).to(device)\n",
        "        c0 = torch.zeros(self.L, X.size(0), self.M).to(device)\n",
        "        \n",
        "        # embedding layer --> N x T --> N x T x D\n",
        "        # turns word indexes into word vectors\n",
        "        out = self.embed(X)\n",
        "\n",
        "        # get RNN unit output --> N x T x D --> N x T x M\n",
        "        out, _ = self.rnn(out, (h0, c0))\n",
        "\n",
        "        # max pool --> N x T x M --> N x M\n",
        "        out, _ = torch.max(out, 1)\n",
        "        \n",
        "        # we only want h(T) at the final time step\n",
        "        # N x M --> N x K\n",
        "        out = self.fc(out)\n",
        "        return out"
      ],
      "execution_count": 27,
      "outputs": []
    },
    {
      "cell_type": "code",
      "metadata": {
        "colab": {
          "base_uri": "https://localhost:8080/"
        },
        "id": "eIxalOast3my",
        "outputId": "02314c68-3e79-47e8-8dc2-508e4b39aa78"
      },
      "source": [
        "# Instantiate the model\n",
        "model = RNN(n_vocab = len(vocab), embed_dim = 20, n_hidden=15, n_rnnlayers = 1, n_outputs = 1)\n",
        "model.to(device)"
      ],
      "execution_count": 28,
      "outputs": [
        {
          "output_type": "execute_result",
          "data": {
            "text/plain": [
              "RNN(\n",
              "  (embed): Embedding(10840, 20)\n",
              "  (rnn): LSTM(20, 15, batch_first=True)\n",
              "  (fc): Linear(in_features=15, out_features=1, bias=True)\n",
              ")"
            ]
          },
          "metadata": {
            "tags": []
          },
          "execution_count": 28
        }
      ]
    },
    {
      "cell_type": "code",
      "metadata": {
        "id": "tk4Y5i8xvdH1"
      },
      "source": [
        "criterion = nn.BCEWithLogitsLoss()\n",
        "optimizer = torch.optim.Adam(model.parameters(), lr = 0.01)"
      ],
      "execution_count": 36,
      "outputs": []
    },
    {
      "cell_type": "code",
      "metadata": {
        "id": "lf_zVYjlfeuM"
      },
      "source": [
        "# A function to encapsulate the training loop\n",
        "def batch_gd(model, criterion, optimizer, train_iter, test_iter, epochs):\n",
        "\n",
        "  train_losses = np.zeros(epochs)\n",
        "  test_losses = np.zeros(epochs)\n",
        "\n",
        "  for it in range(epochs):\n",
        "    t0 = datetime.now()\n",
        "    train_loss = []\n",
        "    for inputs, targets in train_iter:\n",
        "      # print(\"inputs.shape:\", inputs.shape, \"targets.shape:\", targets.shape)\n",
        "      # move data to GPU  \n",
        "      # inputs, targets = inputs.to(device), targets.to(device)\n",
        "      targets = targets.view(-1, 1).float()\n",
        "\n",
        "      # zero the parameter gradients\n",
        "      optimizer.zero_grad()\n",
        "\n",
        "      # Forward pass\n",
        "      outputs = model(inputs)\n",
        "      loss = criterion(outputs, targets)\n",
        "\n",
        "      # Backward and optimize\n",
        "      loss.backward()\n",
        "      optimizer.step()\n",
        "\n",
        "      train_loss.append(loss.item())\n",
        "      \n",
        "    # Get train loss and test loss\n",
        "    train_loss = np.mean(train_loss)   # a little misleading\n",
        "\n",
        "    test_loss = []\n",
        "    for inputs, targets in test_iter:\n",
        "      #inputs, targets = inputs.to(device), targets.to(device)\n",
        "      targets = targets.view(-1,1).float()\n",
        "      outputs = model(inputs)\n",
        "      loss = criterion(outputs, targets)\n",
        "      test_loss.append(loss.item())\n",
        "    test_loss = np.mean(test_loss)\n",
        "\n",
        "    # Save losses\n",
        "    train_losses[it] = train_loss\n",
        "    test_losses[it] = test_loss\n",
        "\n",
        "    dt = datetime.now() - t0      \n",
        "    print(f'Epoch {it+1}/{epochs}, Train Loss: {train_loss:.4f}, Test Loss: {test_loss:.4f}, Duration: {dt}')\n",
        "  \n",
        "  return train_losses, test_losses"
      ],
      "execution_count": 37,
      "outputs": []
    },
    {
      "cell_type": "code",
      "metadata": {
        "id": "i5eSluNLiazX",
        "colab": {
          "base_uri": "https://localhost:8080/"
        },
        "outputId": "dfb946f9-d523-44c8-822c-4e2b420693a3"
      },
      "source": [
        "train_losses, test_losses = batch_gd(\n",
        "    model, criterion, optimizer, train_iter, test_iter, 15\n",
        ")"
      ],
      "execution_count": 38,
      "outputs": [
        {
          "output_type": "stream",
          "text": [
            "Epoch 1/15, Train Loss: 0.0162, Test Loss: 0.2467, Duration: 0:00:09.608380\n",
            "Epoch 2/15, Train Loss: 0.0091, Test Loss: 0.2543, Duration: 0:00:09.583323\n",
            "Epoch 3/15, Train Loss: 0.0056, Test Loss: 0.2369, Duration: 0:00:09.551700\n",
            "Epoch 4/15, Train Loss: 0.0024, Test Loss: 0.2412, Duration: 0:00:09.524711\n",
            "Epoch 5/15, Train Loss: 0.0030, Test Loss: 0.2375, Duration: 0:00:09.525041\n",
            "Epoch 6/15, Train Loss: 0.0027, Test Loss: 0.2367, Duration: 0:00:09.517020\n",
            "Epoch 7/15, Train Loss: 0.0014, Test Loss: 0.2499, Duration: 0:00:09.530793\n",
            "Epoch 8/15, Train Loss: 0.0031, Test Loss: 0.2519, Duration: 0:00:09.546023\n",
            "Epoch 9/15, Train Loss: 0.0023, Test Loss: 0.2353, Duration: 0:00:09.510326\n",
            "Epoch 10/15, Train Loss: 0.0017, Test Loss: 0.2452, Duration: 0:00:09.550639\n",
            "Epoch 11/15, Train Loss: 0.0027, Test Loss: 0.2468, Duration: 0:00:09.573667\n",
            "Epoch 12/15, Train Loss: 0.0007, Test Loss: 0.2480, Duration: 0:00:09.507350\n",
            "Epoch 13/15, Train Loss: 0.0008, Test Loss: 0.2497, Duration: 0:00:09.513334\n",
            "Epoch 14/15, Train Loss: 0.0009, Test Loss: 0.2395, Duration: 0:00:09.545154\n",
            "Epoch 15/15, Train Loss: 0.0005, Test Loss: 0.2326, Duration: 0:00:09.540603\n"
          ],
          "name": "stdout"
        }
      ]
    },
    {
      "cell_type": "code",
      "metadata": {
        "id": "96RQaaDvjMpc",
        "colab": {
          "base_uri": "https://localhost:8080/",
          "height": 265
        },
        "outputId": "e5fca013-d09c-4f0a-ff0c-385cf98d5f48"
      },
      "source": [
        "# Plot the train loss and test loss per iteration\n",
        "plt.plot(train_losses, label='train loss')\n",
        "plt.plot(test_losses, label='test loss')\n",
        "plt.legend()\n",
        "plt.show()"
      ],
      "execution_count": 32,
      "outputs": [
        {
          "output_type": "display_data",
          "data": {
            "image/png": "[encoded data removed]",
            "text/plain": [
              "<Figure size 432x288 with 1 Axes>"
            ]
          },
          "metadata": {
            "tags": [],
            "needs_background": "light"
          }
        }
      ]
    },
    {
      "cell_type": "code",
      "metadata": {
        "id": "VCLzl4bfogRO",
        "outputId": "825ceb82-36e7-4fab-d490-4c71559ec9d8",
        "colab": {
          "base_uri": "https://localhost:8080/"
        }
      },
      "source": [
        "# Accuracy\n",
        "\n",
        "n_correct = 0.\n",
        "n_total = 0.\n",
        "for inputs, targets in train_iter:\n",
        "    targets = targets.view(-1, 1).float()\n",
        "    \n",
        "    # Forward pass\n",
        "    outputs = model(inputs)\n",
        "    #print(outputs.shape)\n",
        "    \n",
        "    # Get prediction\n",
        "    predictions = (outputs > 0)\n",
        "    # print(_, predictions)\n",
        "    \n",
        "    # update counts\n",
        "    n_correct += (predictions == targets).sum().item()   # item : sum까지만 하면 출력이 tensor로 표현되므로 합산만 뽑아냄\n",
        "    n_total += targets.shape[0]\n",
        "    \n",
        "train_acc = n_correct / n_total\n",
        "\n",
        "\n",
        "n_correct = 0.\n",
        "n_total = 0.\n",
        "for inputs, targets in test_iter:\n",
        "    targets = targets.view(-1, 1).float()\n",
        "\n",
        "    # Forward pass\n",
        "    outputs = model(inputs)\n",
        "    \n",
        "    # Get prediction\n",
        "    predictions = (outputs > 0)\n",
        "    \n",
        "    # update counts\n",
        "    n_correct += (predictions == targets).sum().item()   # item : sum까지만 하면 출력이 tensor로 표현되므로 합산만 뽑아냄\n",
        "    n_total += targets.shape[0]\n",
        "    \n",
        "test_acc = n_correct / n_total\n",
        "print(f'Train acc: {train_acc:.4f}, Test acc: {test_acc:.4f}')"
      ],
      "execution_count": 39,
      "outputs": [
        {
          "output_type": "stream",
          "text": [
            "Train acc: 1.0000, Test acc: 0.9713\n"
          ],
          "name": "stdout"
        }
      ]
    }
  ]
}