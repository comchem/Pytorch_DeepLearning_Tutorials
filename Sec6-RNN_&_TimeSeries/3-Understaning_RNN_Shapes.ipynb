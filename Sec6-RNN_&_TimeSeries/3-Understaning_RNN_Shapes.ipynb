{
 "cells": [
  {
   "cell_type": "code",
   "execution_count": 1,
   "metadata": {},
   "outputs": [],
   "source": [
    "import torch\n",
    "import torch.nn as nn\n",
    "import numpy as np\n",
    "import matplotlib.pyplot as plt"
   ]
  },
  {
   "cell_type": "code",
   "execution_count": 2,
   "metadata": {},
   "outputs": [],
   "source": [
    "# Things you should automatically know and have memorized\n",
    "# N = number of samples\n",
    "# T = sequence length\n",
    "# D = number of input features\n",
    "# M = number of hidden units\n",
    "# K = number of output units"
   ]
  },
  {
   "cell_type": "code",
   "execution_count": 3,
   "metadata": {},
   "outputs": [],
   "source": [
    "# Make some data\n",
    "N = 1\n",
    "T = 10\n",
    "D = 3\n",
    "M = 5\n",
    "K = 2\n",
    "X = np.random.randn(N,T,D)"
   ]
  },
  {
   "cell_type": "code",
   "execution_count": 4,
   "metadata": {},
   "outputs": [],
   "source": [
    "## Make an RNN\n",
    "class SimpleRNN(nn.Module):\n",
    "    def __init__(self, n_inputs, n_hidden, n_outputs):\n",
    "        super(SimpleRNN, self).__init__()\n",
    "        self.D = n_inputs\n",
    "        self.M = n_hidden\n",
    "        self.K = n_outputs\n",
    "        self.rnn = nn.RNN(\n",
    "            input_size = self.D,\n",
    "            hidden_size = self.M,\n",
    "            nonlinearity = 'tanh',\n",
    "            batch_first = True)\n",
    "        self.fc = nn.Linear(self.M, self.K)\n",
    "        \n",
    "    def forward(self, X):\n",
    "        # intial hidden states\n",
    "        h0 = torch.zeros(1, X.size(0), self.M)\n",
    "        # get unit output\n",
    "        out, _ = self.rnn(X, h0)\n",
    "        out = self.fc(out)\n",
    "        return out"
   ]
  },
  {
   "cell_type": "code",
   "execution_count": 5,
   "metadata": {},
   "outputs": [],
   "source": [
    "# Instantiate the model\n",
    "model = SimpleRNN(n_inputs = D, n_hidden=M, n_outputs = K)"
   ]
  },
  {
   "cell_type": "code",
   "execution_count": 6,
   "metadata": {},
   "outputs": [
    {
     "data": {
      "text/plain": [
       "tensor([[[ 0.3660,  0.2444],\n",
       "         [ 0.0849,  0.5696],\n",
       "         [ 0.4270,  0.3015],\n",
       "         [ 0.5534,  0.4778],\n",
       "         [ 0.2870,  0.3515],\n",
       "         [ 0.1694,  0.3709],\n",
       "         [ 0.5276,  0.3043],\n",
       "         [ 0.5930,  0.2884],\n",
       "         [-0.3681,  0.4771],\n",
       "         [-0.0700,  0.4415]]], grad_fn=<AddBackward0>)"
      ]
     },
     "execution_count": 6,
     "metadata": {},
     "output_type": "execute_result"
    }
   ],
   "source": [
    "# Get the output\n",
    "inputs = torch.from_numpy(X.astype(np.float32))\n",
    "out = model(inputs)\n",
    "out"
   ]
  },
  {
   "cell_type": "code",
   "execution_count": 7,
   "metadata": {},
   "outputs": [
    {
     "data": {
      "text/plain": [
       "torch.Size([1, 10, 2])"
      ]
     },
     "execution_count": 7,
     "metadata": {},
     "output_type": "execute_result"
    }
   ],
   "source": [
    "out.shape"
   ]
  },
  {
   "cell_type": "code",
   "execution_count": 8,
   "metadata": {},
   "outputs": [
    {
     "data": {
      "text/plain": [
       "array([[[ 0.36600357,  0.24441338],\n",
       "        [ 0.08487566,  0.56958175],\n",
       "        [ 0.42702508,  0.3014848 ],\n",
       "        [ 0.5534216 ,  0.47776997],\n",
       "        [ 0.28700903,  0.351517  ],\n",
       "        [ 0.16938797,  0.37091225],\n",
       "        [ 0.5275631 ,  0.30431306],\n",
       "        [ 0.5930438 ,  0.28835967],\n",
       "        [-0.36805296,  0.4770639 ],\n",
       "        [-0.06995997,  0.44149268]]], dtype=float32)"
      ]
     },
     "execution_count": 8,
     "metadata": {},
     "output_type": "execute_result"
    }
   ],
   "source": [
    "# Save the later\n",
    "Yhats_torch = out.detach().numpy()\n",
    "Yhats_torch"
   ]
  },
  {
   "cell_type": "code",
   "execution_count": 9,
   "metadata": {},
   "outputs": [],
   "source": [
    "W_xh, W_hh, b_xh, b_hh = model.rnn.parameters()"
   ]
  },
  {
   "cell_type": "code",
   "execution_count": 10,
   "metadata": {},
   "outputs": [
    {
     "data": {
      "text/plain": [
       "torch.Size([5, 3])"
      ]
     },
     "execution_count": 10,
     "metadata": {},
     "output_type": "execute_result"
    }
   ],
   "source": [
    "W_xh.shape"
   ]
  },
  {
   "cell_type": "code",
   "execution_count": 11,
   "metadata": {},
   "outputs": [
    {
     "data": {
      "text/plain": [
       "Parameter containing:\n",
       "tensor([[ 0.1940, -0.1864, -0.3708],\n",
       "        [ 0.4388,  0.4335,  0.3084],\n",
       "        [ 0.4232,  0.2363, -0.1446],\n",
       "        [ 0.2669, -0.3843, -0.4198],\n",
       "        [-0.1705,  0.2237,  0.1951]], requires_grad=True)"
      ]
     },
     "execution_count": 11,
     "metadata": {},
     "output_type": "execute_result"
    }
   ],
   "source": [
    "W_xh     # (M = 5, D = 3) --> hidden units과 input features"
   ]
  },
  {
   "cell_type": "code",
   "execution_count": 12,
   "metadata": {},
   "outputs": [
    {
     "data": {
      "text/plain": [
       "array([[ 0.19395643, -0.18644127, -0.3708373 ],\n",
       "       [ 0.43883753,  0.43351787,  0.30838   ],\n",
       "       [ 0.42317736,  0.23629677, -0.14459893],\n",
       "       [ 0.26693505, -0.38425606, -0.41984758],\n",
       "       [-0.1705198 ,  0.22366464,  0.19505084]], dtype=float32)"
      ]
     },
     "execution_count": 12,
     "metadata": {},
     "output_type": "execute_result"
    }
   ],
   "source": [
    "W_xh = W_xh.data.numpy()\n",
    "W_xh"
   ]
  },
  {
   "cell_type": "code",
   "execution_count": 13,
   "metadata": {},
   "outputs": [],
   "source": [
    "W_hh = W_hh.data.numpy()\n",
    "b_xh = b_xh.data.numpy() \n",
    "b_hh = b_hh.data.numpy()"
   ]
  },
  {
   "cell_type": "code",
   "execution_count": 14,
   "metadata": {},
   "outputs": [
    {
     "data": {
      "text/plain": [
       "((5, 3), (5, 5), (5,), (5,))"
      ]
     },
     "execution_count": 14,
     "metadata": {},
     "output_type": "execute_result"
    }
   ],
   "source": [
    "# Did we do it right?\n",
    "W_xh.shape, W_hh.shape, b_xh.shape, b_hh.shape"
   ]
  },
  {
   "cell_type": "code",
   "execution_count": 15,
   "metadata": {},
   "outputs": [],
   "source": [
    "# Not get the FC layer weights\n",
    "Wo, bo = model.fc.parameters()"
   ]
  },
  {
   "cell_type": "code",
   "execution_count": 16,
   "metadata": {},
   "outputs": [
    {
     "data": {
      "text/plain": [
       "((2, 5), (2,))"
      ]
     },
     "execution_count": 16,
     "metadata": {},
     "output_type": "execute_result"
    }
   ],
   "source": [
    "Wo = Wo.data.numpy()\n",
    "bo = bo.data.numpy()\n",
    "Wo.shape, bo.shape"
   ]
  },
  {
   "cell_type": "code",
   "execution_count": 17,
   "metadata": {},
   "outputs": [
    {
     "name": "stdout",
     "output_type": "stream",
     "text": [
      "Hidden values: [-0.30718069 -0.23427566 -0.67274817  0.76802009  0.24960337]\n",
      "Hidden values: [-0.66455575  0.42344756 -0.6798257  -0.32824369  0.37043465]\n",
      "Hidden values: [-0.38230848  0.41522026 -0.32464448  0.74052138  0.27054629]\n",
      "Hidden values: [-0.26401586  0.71512495 -0.13971204  0.43874844 -0.13702493]\n",
      "Hidden values: [-0.40405415  0.83923241  0.04996731  0.32727945  0.3020403 ]\n",
      "Hidden values: [-0.48694789 -0.23061131 -0.6968407   0.2931723   0.26191697]\n",
      "Hidden values: [-0.12349848 -0.31266616 -0.73457575  0.76804593 -0.05955467]\n",
      "Hidden values: [ 0.05603434 -0.54829907 -0.78632369  0.79153016 -0.24627239]\n",
      "Hidden values: [-0.85489125 -0.37370048 -0.9553398  -0.6543708   0.69993464]\n",
      "Hidden values: [-0.87803852  0.98065953  0.01365253 -0.10503329  0.69889083]\n",
      "Prediction: [[ 0.36600358  0.24441339]\n",
      " [ 0.08487563  0.56958176]\n",
      " [ 0.42702506  0.30148479]\n",
      " [ 0.55342166  0.47776996]\n",
      " [ 0.28700903  0.35151697]\n",
      " [ 0.16938796  0.37091225]\n",
      " [ 0.52756303  0.30431309]\n",
      " [ 0.59304378  0.28835969]\n",
      " [-0.36805288  0.47706388]\n",
      " [-0.06995996  0.44149268]]\n"
     ]
    }
   ],
   "source": [
    "# See if we can replicate the output\n",
    "h_last = np.zeros(M)  # initial hidden states\n",
    "x = X[0]  # the one and only sample\n",
    "Yhats = np.zeros((T,K))  # where we store the outputs\n",
    "\n",
    "for t in range(T):\n",
    "    h = np.tanh(x[t].dot(W_xh.T) + b_xh + h_last.dot(W_hh.T) + b_hh)\n",
    "    y = h.dot(Wo.T) + bo  # we only care about this value on the last iteration\n",
    "    Yhats[t] = y\n",
    "    print(\"Hidden values:\", h)\n",
    "    \n",
    "    # Important: assign h to h_last\n",
    "    h_last = h\n",
    "    \n",
    "#  print the final output\n",
    "print('Prediction:', Yhats)"
   ]
  },
  {
   "cell_type": "code",
   "execution_count": 26,
   "metadata": {},
   "outputs": [
    {
     "data": {
      "text/plain": [
       "True"
      ]
     },
     "execution_count": 26,
     "metadata": {},
     "output_type": "execute_result"
    }
   ],
   "source": [
    "# Check\n",
    "np.allclose(Yhats, Yhats_torch)     # SimpleRNN model을 이용한 것과 직접 수식으로 계산한 값의 차이 확인 (동일함)"
   ]
  },
  {
   "cell_type": "code",
   "execution_count": 27,
   "metadata": {},
   "outputs": [],
   "source": [
    "?np.allclose"
   ]
  }
 ],
 "metadata": {
  "kernelspec": {
   "display_name": "Python 3",
   "language": "python",
   "name": "python3"
  },
  "language_info": {
   "codemirror_mode": {
    "name": "ipython",
    "version": 3
   },
   "file_extension": ".py",
   "mimetype": "text/x-python",
   "name": "python",
   "nbconvert_exporter": "python",
   "pygments_lexer": "ipython3",
   "version": "3.8.5"
  }
 },
 "nbformat": 4,
 "nbformat_minor": 4
}
