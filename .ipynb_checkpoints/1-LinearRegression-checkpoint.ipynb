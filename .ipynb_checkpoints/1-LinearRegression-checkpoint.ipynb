{
 "cells": [
  {
   "cell_type": "code",
   "execution_count": 2,
   "metadata": {},
   "outputs": [],
   "source": [
    "import torch\n",
    "import torch.nn as nn\n",
    "import numpy as np\n",
    "import matplotlib.pyplot as plt"
   ]
  },
  {
   "cell_type": "code",
   "execution_count": 3,
   "metadata": {},
   "outputs": [],
   "source": [
    "# Make the dataset\n",
    "N = 20\n",
    "X = np.random.random(N) * 10 - 5 \n",
    "Y = 0.5 * X - 1 + np.random.random(N)      # make a noise"
   ]
  },
  {
   "cell_type": "code",
   "execution_count": 4,
   "metadata": {},
   "outputs": [
    {
     "data": {
      "image/png": "[encoded data removed]",
      "text/plain": [
       "<Figure size 432x288 with 1 Axes>"
      ]
     },
     "metadata": {
      "needs_background": "light"
     },
     "output_type": "display_data"
    }
   ],
   "source": [
    "plt.scatter(X,Y)\n",
    "plt.show()"
   ]
  },
  {
   "cell_type": "code",
   "execution_count": 17,
   "metadata": {},
   "outputs": [],
   "source": [
    "# Linear regression model\n",
    "\n",
    "model = nn.Linear(1,1)      # x and y\n",
    "\n",
    "criterion = nn.MSELoss()\n",
    "optimizer = torch.optim.SGD(model.parameters(), lr = 0.01)    # learning rate을 0.1로 했더니 값이 수렴하지 않고 발산함\n"
   ]
  },
  {
   "cell_type": "code",
   "execution_count": 18,
   "metadata": {},
   "outputs": [],
   "source": [
    "# num samples x num dimensions\n",
    "\n",
    "X = X.reshape(N,1)\n",
    "Y = Y.reshape(N,1)\n",
    "\n",
    "inputs = torch.from_numpy(X.astype(np.float32))\n",
    "targets = torch.from_numpy(Y.astype(np.float32))"
   ]
  },
  {
   "cell_type": "code",
   "execution_count": 19,
   "metadata": {},
   "outputs": [
    {
     "data": {
      "text/plain": [
       "torch.Tensor"
      ]
     },
     "execution_count": 19,
     "metadata": {},
     "output_type": "execute_result"
    }
   ],
   "source": [
    "type(inputs)"
   ]
  },
  {
   "cell_type": "code",
   "execution_count": 20,
   "metadata": {},
   "outputs": [
    {
     "name": "stdout",
     "output_type": "stream",
     "text": [
      "Epoch 1/30, Loss: 1.7224\n",
      "Epoch 2/30, Loss: 1.0366\n",
      "Epoch 3/30, Loss: 0.6332\n",
      "Epoch 4/30, Loss: 0.3959\n",
      "Epoch 5/30, Loss: 0.2563\n",
      "Epoch 6/30, Loss: 0.1741\n",
      "Epoch 7/30, Loss: 0.1257\n",
      "Epoch 8/30, Loss: 0.0971\n",
      "Epoch 9/30, Loss: 0.0803\n",
      "Epoch 10/30, Loss: 0.0703\n",
      "Epoch 11/30, Loss: 0.0644\n",
      "Epoch 12/30, Loss: 0.0609\n",
      "Epoch 13/30, Loss: 0.0588\n",
      "Epoch 14/30, Loss: 0.0575\n",
      "Epoch 15/30, Loss: 0.0566\n",
      "Epoch 16/30, Loss: 0.0561\n",
      "Epoch 17/30, Loss: 0.0558\n",
      "Epoch 18/30, Loss: 0.0555\n",
      "Epoch 19/30, Loss: 0.0553\n",
      "Epoch 20/30, Loss: 0.0551\n",
      "Epoch 21/30, Loss: 0.0550\n",
      "Epoch 22/30, Loss: 0.0549\n",
      "Epoch 23/30, Loss: 0.0548\n",
      "Epoch 24/30, Loss: 0.0547\n",
      "Epoch 25/30, Loss: 0.0546\n",
      "Epoch 26/30, Loss: 0.0545\n",
      "Epoch 27/30, Loss: 0.0544\n",
      "Epoch 28/30, Loss: 0.0543\n",
      "Epoch 29/30, Loss: 0.0542\n",
      "Epoch 30/30, Loss: 0.0542\n"
     ]
    }
   ],
   "source": [
    "# Train the model\n",
    "\n",
    "n_epochs = 30\n",
    "losses = []\n",
    "\n",
    "for it in range(n_epochs):\n",
    "    # zero parameter gradients\n",
    "    optimizer.zero_grad()\n",
    "    \n",
    "    # forward pass\n",
    "    outputs = model(inputs)\n",
    "    loss = criterion(outputs, targets)\n",
    "    \n",
    "    # loss data gathering into losses[]\n",
    "    losses.append(loss.item())\n",
    "    \n",
    "    # Backward and Optimization\n",
    "    loss.backward()\n",
    "    optimizer.step()\n",
    "    \n",
    "    print(f'Epoch {it+1}/{n_epochs}, Loss: {loss.item():.4f}')\n"
   ]
  },
  {
   "cell_type": "code",
   "execution_count": 21,
   "metadata": {},
   "outputs": [
    {
     "data": {
      "image/png": "[encoded data removed]",
      "text/plain": [
       "<Figure size 432x288 with 1 Axes>"
      ]
     },
     "metadata": {
      "needs_background": "light"
     },
     "output_type": "display_data"
    }
   ],
   "source": [
    "plt.plot(losses)\n",
    "plt.show()"
   ]
  },
  {
   "cell_type": "code",
   "execution_count": 22,
   "metadata": {},
   "outputs": [
    {
     "data": {
      "image/png": "[encoded data removed]",
      "text/plain": [
       "<Figure size 432x288 with 1 Axes>"
      ]
     },
     "metadata": {
      "needs_background": "light"
     },
     "output_type": "display_data"
    }
   ],
   "source": [
    "# Plot the graph\n",
    "\n",
    "predicted = model(inputs).detach().numpy()     # detach function transfer numpy to tensor\n",
    "plt.scatter(X, Y, label = 'Original data')\n",
    "plt.plot(X, predicted, label = 'Fitted line')\n",
    "plt.legend()\n",
    "plt.show()"
   ]
  },
  {
   "cell_type": "code",
   "execution_count": 23,
   "metadata": {},
   "outputs": [
    {
     "ename": "RuntimeError",
     "evalue": "Can't call numpy() on Variable that requires grad. Use var.detach().numpy() instead.",
     "output_type": "error",
     "traceback": [
      "\u001b[1;31m---------------------------------------------------------------------------\u001b[0m",
      "\u001b[1;31mRuntimeError\u001b[0m                              Traceback (most recent call last)",
      "\u001b[1;32m<ipython-input-23-921689dae88d>\u001b[0m in \u001b[0;36m<module>\u001b[1;34m\u001b[0m\n\u001b[0;32m      1\u001b[0m \u001b[1;31m# Error\u001b[0m\u001b[1;33m\u001b[0m\u001b[1;33m\u001b[0m\u001b[1;33m\u001b[0m\u001b[0m\n\u001b[1;32m----> 2\u001b[1;33m \u001b[0mmodel\u001b[0m\u001b[1;33m(\u001b[0m\u001b[0minputs\u001b[0m\u001b[1;33m)\u001b[0m\u001b[1;33m.\u001b[0m\u001b[0mnumpy\u001b[0m\u001b[1;33m(\u001b[0m\u001b[1;33m)\u001b[0m\u001b[1;33m\u001b[0m\u001b[1;33m\u001b[0m\u001b[0m\n\u001b[0m",
      "\u001b[1;31mRuntimeError\u001b[0m: Can't call numpy() on Variable that requires grad. Use var.detach().numpy() instead."
     ]
    }
   ],
   "source": [
    "# Intend to make error\n",
    "model(inputs).numpy()"
   ]
  },
  {
   "cell_type": "code",
   "execution_count": 24,
   "metadata": {},
   "outputs": [
    {
     "data": {
      "text/plain": [
       "array([[ 2.142026  ],\n",
       "       [-2.7546973 ],\n",
       "       [-1.3754102 ],\n",
       "       [ 0.9055964 ],\n",
       "       [ 2.0934072 ],\n",
       "       [ 1.7153767 ],\n",
       "       [-0.45625848],\n",
       "       [-2.5070348 ],\n",
       "       [-0.52865076],\n",
       "       [-1.024958  ],\n",
       "       [-0.22850895],\n",
       "       [ 2.1095157 ],\n",
       "       [-1.0437635 ],\n",
       "       [-1.2911241 ],\n",
       "       [ 1.691559  ],\n",
       "       [ 0.48105973],\n",
       "       [ 1.9957219 ],\n",
       "       [ 1.3888438 ],\n",
       "       [ 2.1680255 ],\n",
       "       [ 1.6915292 ]], dtype=float32)"
      ]
     },
     "execution_count": 24,
     "metadata": {},
     "output_type": "execute_result"
    }
   ],
   "source": [
    "# Another way with function and with no gradient\n",
    "\n",
    "with torch.no_grad():     # with 로 Function을 부른 후 자동으로 Close 됨\n",
    "    out = model(inputs).numpy()   # no gradient에서는 바로 numpy로 전환이 가능하다.\n",
    "out"
   ]
  },
  {
   "cell_type": "code",
   "execution_count": 27,
   "metadata": {},
   "outputs": [
    {
     "name": "stdout",
     "output_type": "stream",
     "text": [
      "[[0.5200565]] [-0.37455165]\n"
     ]
    }
   ],
   "source": [
    "# Important!\n",
    "# In order to test the efficacy of our model, synthetic data is useful.\n",
    "# Why?\n",
    "# Because *** we know the answer ***\n",
    "# True value of (w, b) are (0.5, -1)\n",
    "\n",
    "w = model.weight.data.numpy()\n",
    "b = model.bias.data.numpy()\n",
    "\n",
    "print(w,b)\n"
   ]
  }
 ],
 "metadata": {
  "kernelspec": {
   "display_name": "Python 3",
   "language": "python",
   "name": "python3"
  },
  "language_info": {
   "codemirror_mode": {
    "name": "ipython",
    "version": 3
   },
   "file_extension": ".py",
   "mimetype": "text/x-python",
   "name": "python",
   "nbconvert_exporter": "python",
   "pygments_lexer": "ipython3",
   "version": "3.7.4"
  }
 },
 "nbformat": 4,
 "nbformat_minor": 2
}
