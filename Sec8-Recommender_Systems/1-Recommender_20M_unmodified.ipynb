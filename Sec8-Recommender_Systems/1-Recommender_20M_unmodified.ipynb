{
  "nbformat": 4,
  "nbformat_minor": 0,
  "metadata": {
    "kernelspec": {
      "display_name": "Python 3",
      "language": "python",
      "name": "python3"
    },
    "language_info": {
      "codemirror_mode": {
        "name": "ipython",
        "version": 3
      },
      "file_extension": ".py",
      "mimetype": "text/x-python",
      "name": "python",
      "nbconvert_exporter": "python",
      "pygments_lexer": "ipython3",
      "version": "3.8.5"
    },
    "colab": {
      "name": "1-Recommender_20M_unmodified.ipynb",
      "provenance": [],
      "include_colab_link": true
    },
    "accelerator": "GPU"
  },
  "cells": [
    {
      "cell_type": "markdown",
      "metadata": {
        "id": "view-in-github",
        "colab_type": "text"
      },
      "source": [
        "<a href=\"https://colab.research.google.com/github/comchem/Pytorch_DeepLearning_Tutorials/blob/master/Sec8-Recommender_Systems/1-Recommender_20M_unmodified.ipynb\" target=\"_parent\"><img src=\"https://colab.research.google.com/assets/colab-badge.svg\" alt=\"Open In Colab\"/></a>"
      ]
    },
    {
      "cell_type": "code",
      "metadata": {
        "id": "N9JnwZ9DWYvJ"
      },
      "source": [
        "import torch\n",
        "import torch.nn as nn\n",
        "import torch.nn.functional as F\n",
        "import numpy as np\n",
        "import pandas as pd\n",
        "import matplotlib.pyplot as plt\n",
        "from datetime import datetime\n",
        "from sklearn.utils import shuffle"
      ],
      "execution_count": 1,
      "outputs": []
    },
    {
      "cell_type": "code",
      "metadata": {
        "colab": {
          "base_uri": "https://localhost:8080/"
        },
        "id": "raRDxSsfWYvO",
        "outputId": "40d87458-e4e8-4f99-fa75-365205639800"
      },
      "source": [
        "!wget -nc http://files.grouplens.org/datasets/movielens/ml-20m.zip"
      ],
      "execution_count": 2,
      "outputs": [
        {
          "output_type": "stream",
          "text": [
            "--2021-04-24 05:28:48--  http://files.grouplens.org/datasets/movielens/ml-20m.zip\n",
            "Resolving files.grouplens.org (files.grouplens.org)... 128.101.65.152\n",
            "Connecting to files.grouplens.org (files.grouplens.org)|128.101.65.152|:80... connected.\n",
            "HTTP request sent, awaiting response... 200 OK\n",
            "Length: 198702078 (189M) [application/zip]\n",
            "Saving to: ‘ml-20m.zip’\n",
            "\n",
            "ml-20m.zip          100%[===================>] 189.50M   104MB/s    in 1.8s    \n",
            "\n",
            "2021-04-24 05:28:50 (104 MB/s) - ‘ml-20m.zip’ saved [198702078/198702078]\n",
            "\n"
          ],
          "name": "stdout"
        }
      ]
    },
    {
      "cell_type": "code",
      "metadata": {
        "colab": {
          "base_uri": "https://localhost:8080/"
        },
        "id": "S7XMNXBJWYvP",
        "outputId": "062910e3-56b9-4bd2-97d1-77f02285eac5"
      },
      "source": [
        "!unzip -n ml-20m.zip"
      ],
      "execution_count": 3,
      "outputs": [
        {
          "output_type": "stream",
          "text": [
            "Archive:  ml-20m.zip\n",
            "   creating: ml-20m/\n",
            "  inflating: ml-20m/genome-scores.csv  \n",
            "  inflating: ml-20m/genome-tags.csv  \n",
            "  inflating: ml-20m/links.csv        \n",
            "  inflating: ml-20m/movies.csv       \n",
            "  inflating: ml-20m/ratings.csv      \n",
            "  inflating: ml-20m/README.txt       \n",
            "  inflating: ml-20m/tags.csv         \n"
          ],
          "name": "stdout"
        }
      ]
    },
    {
      "cell_type": "code",
      "metadata": {
        "colab": {
          "base_uri": "https://localhost:8080/"
        },
        "id": "xp4ueutOX29j",
        "outputId": "26c16db1-57a1-4fea-84bc-b9117ab9c1d7"
      },
      "source": [
        "!ls -la"
      ],
      "execution_count": 4,
      "outputs": [
        {
          "output_type": "stream",
          "text": [
            "total 194072\n",
            "drwxr-xr-x 1 root root      4096 Apr 24 05:34 .\n",
            "drwxr-xr-x 1 root root      4096 Apr 24 05:24 ..\n",
            "drwxr-xr-x 4 root root      4096 Apr 21 13:38 .config\n",
            "drwxr-xr-x 2 root root      4096 Oct 17  2016 ml-20m\n",
            "-rw-r--r-- 1 root root 198702078 Dec  3  2019 ml-20m.zip\n",
            "drwxr-xr-x 1 root root      4096 Apr 21 13:39 sample_data\n"
          ],
          "name": "stdout"
        }
      ]
    },
    {
      "cell_type": "code",
      "metadata": {
        "colab": {
          "base_uri": "https://localhost:8080/",
          "height": 204
        },
        "id": "ltqVjsIeX7qr",
        "outputId": "6a8642a0-cc85-4837-b6a9-830f003ffcf8"
      },
      "source": [
        "df = pd.read_csv('ml-20m/ratings.csv')\n",
        "df.head()"
      ],
      "execution_count": 5,
      "outputs": [
        {
          "output_type": "execute_result",
          "data": {
            "text/html": [
              "<div>\n",
              "<style scoped>\n",
              "    .dataframe tbody tr th:only-of-type {\n",
              "        vertical-align: middle;\n",
              "    }\n",
              "\n",
              "    .dataframe tbody tr th {\n",
              "        vertical-align: top;\n",
              "    }\n",
              "\n",
              "    .dataframe thead th {\n",
              "        text-align: right;\n",
              "    }\n",
              "</style>\n",
              "<table border=\"1\" class=\"dataframe\">\n",
              "  <thead>\n",
              "    <tr style=\"text-align: right;\">\n",
              "      <th></th>\n",
              "      <th>userId</th>\n",
              "      <th>movieId</th>\n",
              "      <th>rating</th>\n",
              "      <th>timestamp</th>\n",
              "    </tr>\n",
              "  </thead>\n",
              "  <tbody>\n",
              "    <tr>\n",
              "      <th>0</th>\n",
              "      <td>1</td>\n",
              "      <td>2</td>\n",
              "      <td>3.5</td>\n",
              "      <td>1112486027</td>\n",
              "    </tr>\n",
              "    <tr>\n",
              "      <th>1</th>\n",
              "      <td>1</td>\n",
              "      <td>29</td>\n",
              "      <td>3.5</td>\n",
              "      <td>1112484676</td>\n",
              "    </tr>\n",
              "    <tr>\n",
              "      <th>2</th>\n",
              "      <td>1</td>\n",
              "      <td>32</td>\n",
              "      <td>3.5</td>\n",
              "      <td>1112484819</td>\n",
              "    </tr>\n",
              "    <tr>\n",
              "      <th>3</th>\n",
              "      <td>1</td>\n",
              "      <td>47</td>\n",
              "      <td>3.5</td>\n",
              "      <td>1112484727</td>\n",
              "    </tr>\n",
              "    <tr>\n",
              "      <th>4</th>\n",
              "      <td>1</td>\n",
              "      <td>50</td>\n",
              "      <td>3.5</td>\n",
              "      <td>1112484580</td>\n",
              "    </tr>\n",
              "  </tbody>\n",
              "</table>\n",
              "</div>"
            ],
            "text/plain": [
              "   userId  movieId  rating   timestamp\n",
              "0       1        2     3.5  1112486027\n",
              "1       1       29     3.5  1112484676\n",
              "2       1       32     3.5  1112484819\n",
              "3       1       47     3.5  1112484727\n",
              "4       1       50     3.5  1112484580"
            ]
          },
          "metadata": {
            "tags": []
          },
          "execution_count": 5
        }
      ]
    },
    {
      "cell_type": "code",
      "metadata": {
        "id": "vFSNcidOYI6q"
      },
      "source": [
        "# We can't trust the userId and movieId to be numbered 0...N-1\n",
        "# Let's just set our own ids\n",
        "\n",
        "# current_user_id = 0\n",
        "# custom_user_map = {}\n",
        "# def map_user_id(row):\n",
        "#   global current_user_id, custom_user_map\n",
        "#   old_user_id = row['userId']\n",
        "#   if old_user_id not in custom_user_map:\n",
        "#     custom_user_map[old_user_id] = current_user_id\n",
        "#     current_user_id += 1\n",
        "#   return custom_user_map[old_user_id]\n",
        "\n",
        "# df['new_user_id'] = df.apply(map_user_id, axis = 1)\n",
        "\n",
        "df.userId = pd.Categorical(df.userId)\n",
        "df['new_user_id'] = df.userId.cat.codes                # new_user_id = userId - 1"
      ],
      "execution_count": 12,
      "outputs": []
    },
    {
      "cell_type": "code",
      "metadata": {
        "colab": {
          "base_uri": "https://localhost:8080/",
          "height": 204
        },
        "id": "NlXQdj2gZghk",
        "outputId": "9aa74a0f-03b1-49dd-90f8-3458a5b34cc0"
      },
      "source": [
        "df.tail()"
      ],
      "execution_count": 14,
      "outputs": [
        {
          "output_type": "execute_result",
          "data": {
            "text/html": [
              "<div>\n",
              "<style scoped>\n",
              "    .dataframe tbody tr th:only-of-type {\n",
              "        vertical-align: middle;\n",
              "    }\n",
              "\n",
              "    .dataframe tbody tr th {\n",
              "        vertical-align: top;\n",
              "    }\n",
              "\n",
              "    .dataframe thead th {\n",
              "        text-align: right;\n",
              "    }\n",
              "</style>\n",
              "<table border=\"1\" class=\"dataframe\">\n",
              "  <thead>\n",
              "    <tr style=\"text-align: right;\">\n",
              "      <th></th>\n",
              "      <th>userId</th>\n",
              "      <th>movieId</th>\n",
              "      <th>rating</th>\n",
              "      <th>timestamp</th>\n",
              "      <th>new_user_id</th>\n",
              "    </tr>\n",
              "  </thead>\n",
              "  <tbody>\n",
              "    <tr>\n",
              "      <th>20000258</th>\n",
              "      <td>138493</td>\n",
              "      <td>68954</td>\n",
              "      <td>4.5</td>\n",
              "      <td>1258126920</td>\n",
              "      <td>138492</td>\n",
              "    </tr>\n",
              "    <tr>\n",
              "      <th>20000259</th>\n",
              "      <td>138493</td>\n",
              "      <td>69526</td>\n",
              "      <td>4.5</td>\n",
              "      <td>1259865108</td>\n",
              "      <td>138492</td>\n",
              "    </tr>\n",
              "    <tr>\n",
              "      <th>20000260</th>\n",
              "      <td>138493</td>\n",
              "      <td>69644</td>\n",
              "      <td>3.0</td>\n",
              "      <td>1260209457</td>\n",
              "      <td>138492</td>\n",
              "    </tr>\n",
              "    <tr>\n",
              "      <th>20000261</th>\n",
              "      <td>138493</td>\n",
              "      <td>70286</td>\n",
              "      <td>5.0</td>\n",
              "      <td>1258126944</td>\n",
              "      <td>138492</td>\n",
              "    </tr>\n",
              "    <tr>\n",
              "      <th>20000262</th>\n",
              "      <td>138493</td>\n",
              "      <td>71619</td>\n",
              "      <td>2.5</td>\n",
              "      <td>1255811136</td>\n",
              "      <td>138492</td>\n",
              "    </tr>\n",
              "  </tbody>\n",
              "</table>\n",
              "</div>"
            ],
            "text/plain": [
              "          userId  movieId  rating   timestamp  new_user_id\n",
              "20000258  138493    68954     4.5  1258126920       138492\n",
              "20000259  138493    69526     4.5  1259865108       138492\n",
              "20000260  138493    69644     3.0  1260209457       138492\n",
              "20000261  138493    70286     5.0  1258126944       138492\n",
              "20000262  138493    71619     2.5  1255811136       138492"
            ]
          },
          "metadata": {
            "tags": []
          },
          "execution_count": 14
        }
      ]
    },
    {
      "cell_type": "code",
      "metadata": {
        "id": "N_08ZkvKZjZi"
      },
      "source": [
        "df.movieId = pd.Categorical(df.movieId)\n",
        "df['new_movie_id'] = df.movieId.cat.codes    # coded new_movie_id by order start from zero"
      ],
      "execution_count": 15,
      "outputs": []
    },
    {
      "cell_type": "code",
      "metadata": {
        "colab": {
          "base_uri": "https://localhost:8080/",
          "height": 204
        },
        "id": "eq9aRBtRanED",
        "outputId": "d7dff496-d026-47ae-c021-e2f4b3bfbb77"
      },
      "source": [
        "df.head()"
      ],
      "execution_count": 18,
      "outputs": [
        {
          "output_type": "execute_result",
          "data": {
            "text/html": [
              "<div>\n",
              "<style scoped>\n",
              "    .dataframe tbody tr th:only-of-type {\n",
              "        vertical-align: middle;\n",
              "    }\n",
              "\n",
              "    .dataframe tbody tr th {\n",
              "        vertical-align: top;\n",
              "    }\n",
              "\n",
              "    .dataframe thead th {\n",
              "        text-align: right;\n",
              "    }\n",
              "</style>\n",
              "<table border=\"1\" class=\"dataframe\">\n",
              "  <thead>\n",
              "    <tr style=\"text-align: right;\">\n",
              "      <th></th>\n",
              "      <th>userId</th>\n",
              "      <th>movieId</th>\n",
              "      <th>rating</th>\n",
              "      <th>timestamp</th>\n",
              "      <th>new_user_id</th>\n",
              "      <th>new_movie_id</th>\n",
              "    </tr>\n",
              "  </thead>\n",
              "  <tbody>\n",
              "    <tr>\n",
              "      <th>0</th>\n",
              "      <td>1</td>\n",
              "      <td>2</td>\n",
              "      <td>3.5</td>\n",
              "      <td>1112486027</td>\n",
              "      <td>0</td>\n",
              "      <td>1</td>\n",
              "    </tr>\n",
              "    <tr>\n",
              "      <th>1</th>\n",
              "      <td>1</td>\n",
              "      <td>29</td>\n",
              "      <td>3.5</td>\n",
              "      <td>1112484676</td>\n",
              "      <td>0</td>\n",
              "      <td>28</td>\n",
              "    </tr>\n",
              "    <tr>\n",
              "      <th>2</th>\n",
              "      <td>1</td>\n",
              "      <td>32</td>\n",
              "      <td>3.5</td>\n",
              "      <td>1112484819</td>\n",
              "      <td>0</td>\n",
              "      <td>31</td>\n",
              "    </tr>\n",
              "    <tr>\n",
              "      <th>3</th>\n",
              "      <td>1</td>\n",
              "      <td>47</td>\n",
              "      <td>3.5</td>\n",
              "      <td>1112484727</td>\n",
              "      <td>0</td>\n",
              "      <td>46</td>\n",
              "    </tr>\n",
              "    <tr>\n",
              "      <th>4</th>\n",
              "      <td>1</td>\n",
              "      <td>50</td>\n",
              "      <td>3.5</td>\n",
              "      <td>1112484580</td>\n",
              "      <td>0</td>\n",
              "      <td>49</td>\n",
              "    </tr>\n",
              "  </tbody>\n",
              "</table>\n",
              "</div>"
            ],
            "text/plain": [
              "  userId movieId  rating   timestamp  new_user_id  new_movie_id\n",
              "0      1       2     3.5  1112486027            0             1\n",
              "1      1      29     3.5  1112484676            0            28\n",
              "2      1      32     3.5  1112484819            0            31\n",
              "3      1      47     3.5  1112484727            0            46\n",
              "4      1      50     3.5  1112484580            0            49"
            ]
          },
          "metadata": {
            "tags": []
          },
          "execution_count": 18
        }
      ]
    },
    {
      "cell_type": "code",
      "metadata": {
        "id": "cnvoetu1aodj"
      },
      "source": [
        "# Get user IDs, movie IDs and ratings as separate arrays\n",
        "user_ids = df['new_user_id'].values\n",
        "movie_ids = df['new_movie_id'].values\n",
        "ratings = df['rating'].values - 2.5     # Scaling of rating"
      ],
      "execution_count": 20,
      "outputs": []
    },
    {
      "cell_type": "code",
      "metadata": {
        "id": "bBNYmPfQbyN5"
      },
      "source": [
        "# Get number of users and number of movies\n",
        "N = len(set(user_ids))\n",
        "M = len(set(movie_ids))\n",
        "\n",
        "# Set embedding dimemsion\n",
        "D = 10"
      ],
      "execution_count": 26,
      "outputs": []
    },
    {
      "cell_type": "code",
      "metadata": {
        "colab": {
          "base_uri": "https://localhost:8080/"
        },
        "id": "1guO0YsOcKKL",
        "outputId": "5d58b6cf-490d-4e82-d4d5-2ea4ccf0b740"
      },
      "source": [
        "print('total # user_ids:', len(user_ids), ', unique # user_ids: ', len(set(user_ids)))"
      ],
      "execution_count": 30,
      "outputs": [
        {
          "output_type": "stream",
          "text": [
            "total # user_ids: 20000263 , unique # user_ids:  138493\n"
          ],
          "name": "stdout"
        }
      ]
    },
    {
      "cell_type": "code",
      "metadata": {
        "id": "x38NFuhhcMyb"
      },
      "source": [
        "# Make a neural network\n",
        "class Model(nn.Module):\n",
        "  def __init__(self, n_users, n_items, embed_dim, n_hidden=1024):\n",
        "    super(Model, self).__init__()\n",
        "    self.N = n_users\n",
        "    self.M = n_items\n",
        "    self.D = embed_dim\n",
        "\n",
        "    self.u_emb = nn.Embedding(self.N, self.D)\n",
        "    self.m_emb = nn.Embedding(self.M, self.D)\n",
        "    self.fc1 = nn.Linear(2*self.D, n_hidden)\n",
        "    self.fc2 = nn.Linear(n_hidden, 1)\n",
        "\n",
        "  def forward(self, u, m):\n",
        "    u = self.u_emb(u)  # output is (num_samples, D)\n",
        "    m = self.m_emb(m)  # output is (num_samples, D)\n",
        "\n",
        "    # merge\n",
        "    out = torch.cat((u,m),1)   # output is (num_samples, 2D)\n",
        "\n",
        "    # ANN\n",
        "    out = self.fc1(out)\n",
        "    out = F.relu(out)\n",
        "    out = self.fc2(out)\n",
        "    return out    "
      ],
      "execution_count": 31,
      "outputs": []
    },
    {
      "cell_type": "code",
      "metadata": {
        "colab": {
          "base_uri": "https://localhost:8080/"
        },
        "id": "3fbnlxafcW0b",
        "outputId": "278988ae-284a-4ad6-949b-5ead9f365d9b"
      },
      "source": [
        "device = torch.device(\"cuda:0\" if torch.cuda.is_available() else \"cpu\")\n",
        "print(device)"
      ],
      "execution_count": 32,
      "outputs": [
        {
          "output_type": "stream",
          "text": [
            "cuda:0\n"
          ],
          "name": "stdout"
        }
      ]
    },
    {
      "cell_type": "code",
      "metadata": {
        "colab": {
          "base_uri": "https://localhost:8080/"
        },
        "id": "rKH-GPpChOyl",
        "outputId": "404df90e-a02d-4979-e6c0-5988278b5740"
      },
      "source": [
        "model = Model(N, M, D)\n",
        "model.to(device)"
      ],
      "execution_count": 33,
      "outputs": [
        {
          "output_type": "execute_result",
          "data": {
            "text/plain": [
              "Model(\n",
              "  (u_emb): Embedding(138493, 10)\n",
              "  (m_emb): Embedding(26744, 10)\n",
              "  (fc1): Linear(in_features=20, out_features=1024, bias=True)\n",
              "  (fc2): Linear(in_features=1024, out_features=1, bias=True)\n",
              ")"
            ]
          },
          "metadata": {
            "tags": []
          },
          "execution_count": 33
        }
      ]
    },
    {
      "cell_type": "code",
      "metadata": {
        "id": "du2eKdVchp9s"
      },
      "source": [
        "criterion = nn.MSELoss()\n",
        "optimizer = torch.optim.Adam(model.parameters())"
      ],
      "execution_count": 34,
      "outputs": []
    },
    {
      "cell_type": "code",
      "metadata": {
        "id": "6A1crWpvhz6M"
      },
      "source": [
        "# shuffle the data in corresponding order\n",
        "user_ids, movie_ids, ratings = shuffle(user_ids, movie_ids, ratings)"
      ],
      "execution_count": 35,
      "outputs": []
    },
    {
      "cell_type": "code",
      "metadata": {
        "id": "hYQYhxafiDqd"
      },
      "source": [
        "# convert to tensors\n",
        "user_ids_t = torch.from_numpy(user_ids).long()\n",
        "movie_ids_t = torch.from_numpy(movie_ids).long()\n",
        "ratings_t = torch.from_numpy(ratings)"
      ],
      "execution_count": 36,
      "outputs": []
    },
    {
      "cell_type": "code",
      "metadata": {
        "id": "7L4GfNZ9iXx9"
      },
      "source": [
        "# Make datasets\n",
        "Ntrain = int(0.8 * len(ratings))\n",
        "train_dataset = torch.utils.data.TensorDataset(\n",
        "    user_ids_t[:Ntrain],\n",
        "    movie_ids_t[:Ntrain],\n",
        "    ratings_t[:Ntrain]\n",
        ")\n",
        "\n",
        "test_dataset = torch.utils.data.TensorDataset(\n",
        "    user_ids_t[Ntrain:],\n",
        "    movie_ids_t[Ntrain:],\n",
        "    ratings_t[Ntrain:]\n",
        ")"
      ],
      "execution_count": 37,
      "outputs": []
    },
    {
      "cell_type": "code",
      "metadata": {
        "id": "3sTERXcnjY0P"
      },
      "source": [
        "# Data loaders\n",
        "batch_size = 512\n",
        "train_loader = torch.utils.data.DataLoader(dataset=train_dataset,\n",
        "                                          batch_size=batch_size,\n",
        "                                          shuffle=True)\n",
        "\n",
        "test_loader = torch.utils.data.DataLoader(dataset=test_dataset,\n",
        "                                          batch_size=batch_size,\n",
        "                                          shuffle=False)"
      ],
      "execution_count": 38,
      "outputs": []
    },
    {
      "cell_type": "code",
      "metadata": {
        "id": "xGTsa3Lgjx71"
      },
      "source": [
        "# A function to encapsulate the training loop\n",
        "def batch_gd(model, criterion, optimizer, train_loader, test_loader, epochs):\n",
        "\n",
        "  train_losses = np.zeros(epochs)\n",
        "  test_losses = np.zeros(epochs)\n",
        "\n",
        "  for it in range(epochs):\n",
        "    t0 = datetime.now()\n",
        "    train_loss = []\n",
        "    for users, movies, targets in train_loader:\n",
        "      targets = targets.view(-1, 1).float()\n",
        "\n",
        "      # move data to GPU\n",
        "      users, movies, targets = users.to(device), movies.to(device), targets.to(device)\n",
        "      \n",
        "      # zero the parameter gradients\n",
        "      optimizer.zero_grad()\n",
        "\n",
        "      # Forward pass\n",
        "      outputs = model(users, movies)\n",
        "      loss = criterion(outputs, targets)\n",
        "\n",
        "      # Backward and optimize\n",
        "      loss.backward()\n",
        "      optimizer.step()\n",
        "\n",
        "      train_loss.append(loss.item())\n",
        "      \n",
        "    # Get train loss and test loss\n",
        "    train_loss = np.mean(train_loss)   # a little misleading\n",
        "\n",
        "    test_loss = []\n",
        "    for users, movies, targets in test_loader:\n",
        "      users, movies, targets = users.to(device), movies.to(device), targets.to(device)\n",
        "      targets = targets.view(-1,1).float()\n",
        "      outputs = model(users, movies)\n",
        "      loss = criterion(outputs, targets)\n",
        "      test_loss.append(loss.item())\n",
        "    test_loss = np.mean(test_loss)\n",
        "\n",
        "    # Save losses\n",
        "    train_losses[it] = train_loss\n",
        "    test_losses[it] = test_loss\n",
        "\n",
        "    dt = datetime.now() - t0      \n",
        "    print(f'Epoch {it+1}/{epochs}, Train Loss: {train_loss:.4f}, Test Loss: {test_loss:.4f}, Duration: {dt}')\n",
        "  \n",
        "  return train_losses, test_losses"
      ],
      "execution_count": 40,
      "outputs": []
    },
    {
      "cell_type": "code",
      "metadata": {
        "colab": {
          "base_uri": "https://localhost:8080/"
        },
        "id": "lUzMnI7DlLGS",
        "outputId": "14bbe667-4e17-40e0-bda1-27f03559cc9a"
      },
      "source": [
        "%prun train_losses, test_losses = batch_gd(\\\n",
        "    model, criterion, optimizer, train_loader, test_loader, 25)"
      ],
      "execution_count": 44,
      "outputs": [
        {
          "output_type": "stream",
          "text": [
            "Epoch 1/25, Train Loss: 0.7213, Test Loss: 0.7236, Duration: 0:04:35.394728\n",
            "Epoch 2/25, Train Loss: 0.7061, Test Loss: 0.7112, Duration: 0:04:32.788617\n",
            "Epoch 3/25, Train Loss: 0.6947, Test Loss: 0.7055, Duration: 0:04:32.556190\n",
            "Epoch 4/25, Train Loss: 0.6870, Test Loss: 0.7011, Duration: 0:04:34.225932\n",
            "Epoch 5/25, Train Loss: 0.6816, Test Loss: 0.6966, Duration: 0:04:33.842711\n",
            "Epoch 6/25, Train Loss: 0.6774, Test Loss: 0.6960, Duration: 0:04:32.526659\n",
            "Epoch 7/25, Train Loss: 0.6738, Test Loss: 0.6938, Duration: 0:04:33.819716\n",
            "Epoch 8/25, Train Loss: 0.6705, Test Loss: 0.6908, Duration: 0:04:33.970949\n",
            "Epoch 9/25, Train Loss: 0.6675, Test Loss: 0.6898, Duration: 0:04:34.422480\n",
            "Epoch 10/25, Train Loss: 0.6646, Test Loss: 0.6893, Duration: 0:04:35.819341\n",
            "Epoch 11/25, Train Loss: 0.6619, Test Loss: 0.6876, Duration: 0:04:34.824412\n",
            "Epoch 12/25, Train Loss: 0.6594, Test Loss: 0.6861, Duration: 0:04:36.846656\n",
            "Epoch 13/25, Train Loss: 0.6569, Test Loss: 0.6876, Duration: 0:04:37.388271\n",
            "Epoch 14/25, Train Loss: 0.6546, Test Loss: 0.6843, Duration: 0:04:37.694338\n",
            "Epoch 15/25, Train Loss: 0.6522, Test Loss: 0.6824, Duration: 0:04:37.872618\n",
            "Epoch 16/25, Train Loss: 0.6501, Test Loss: 0.6819, Duration: 0:04:36.397509\n",
            "Epoch 17/25, Train Loss: 0.6480, Test Loss: 0.6832, Duration: 0:04:35.931389\n",
            "Epoch 18/25, Train Loss: 0.6461, Test Loss: 0.6840, Duration: 0:04:38.355726\n",
            "Epoch 19/25, Train Loss: 0.6442, Test Loss: 0.6803, Duration: 0:04:36.846409\n",
            "Epoch 20/25, Train Loss: 0.6423, Test Loss: 0.6795, Duration: 0:04:37.642927\n",
            "Epoch 21/25, Train Loss: 0.6406, Test Loss: 0.6813, Duration: 0:04:40.756973\n",
            "Epoch 22/25, Train Loss: 0.6388, Test Loss: 0.6786, Duration: 0:04:42.627243\n",
            "Epoch 23/25, Train Loss: 0.6371, Test Loss: 0.6797, Duration: 0:04:38.743542\n",
            "Epoch 24/25, Train Loss: 0.6355, Test Loss: 0.6821, Duration: 0:04:38.307399\n",
            "Epoch 25/25, Train Loss: 0.6339, Test Loss: 0.6767, Duration: 0:04:38.465357\n",
            " "
          ],
          "name": "stdout"
        }
      ]
    },
    {
      "cell_type": "code",
      "metadata": {
        "colab": {
          "base_uri": "https://localhost:8080/",
          "height": 265
        },
        "id": "mPlpz7ZslZJC",
        "outputId": "556b3d76-5eb0-4552-c617-38d944d94040"
      },
      "source": [
        "# Plot the train loss and test loss per iteration\n",
        "plt.plot(train_losses, label='train loss')\n",
        "plt.plot(test_losses, label='test loss')\n",
        "plt.legend()\n",
        "plt.show()"
      ],
      "execution_count": 45,
      "outputs": [
        {
          "output_type": "display_data",
          "data": {
            "image/png": "[encoded data removed]",
            "text/plain": [
              "<Figure size 432x288 with 1 Axes>"
            ]
          },
          "metadata": {
            "tags": [],
            "needs_background": "light"
          }
        }
      ]
    },
    {
      "cell_type": "code",
      "metadata": {
        "id": "NVkW5d5JELdT"
      },
      "source": [
        ""
      ],
      "execution_count": null,
      "outputs": []
    }
  ]
}