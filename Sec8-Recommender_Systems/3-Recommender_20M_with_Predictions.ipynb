{
 "cells": [
  {
   "cell_type": "code",
   "execution_count": 1,
   "metadata": {},
   "outputs": [],
   "source": [
    "import torch\n",
    "import torch.nn as nn\n",
    "import torch.nn.functional as F\n",
    "import numpy as np\n",
    "import pandas as pd\n",
    "import matplotlib.pyplot as plt\n",
    "from datetime import datetime\n",
    "from sklearn.utils import shuffle"
   ]
  },
  {
   "cell_type": "code",
   "execution_count": 2,
   "metadata": {},
   "outputs": [
    {
     "data": {
      "text/html": [
       "<div>\n",
       "<style scoped>\n",
       "    .dataframe tbody tr th:only-of-type {\n",
       "        vertical-align: middle;\n",
       "    }\n",
       "\n",
       "    .dataframe tbody tr th {\n",
       "        vertical-align: top;\n",
       "    }\n",
       "\n",
       "    .dataframe thead th {\n",
       "        text-align: right;\n",
       "    }\n",
       "</style>\n",
       "<table border=\"1\" class=\"dataframe\">\n",
       "  <thead>\n",
       "    <tr style=\"text-align: right;\">\n",
       "      <th></th>\n",
       "      <th>userId</th>\n",
       "      <th>movieId</th>\n",
       "      <th>rating</th>\n",
       "      <th>timestamp</th>\n",
       "    </tr>\n",
       "  </thead>\n",
       "  <tbody>\n",
       "    <tr>\n",
       "      <th>0</th>\n",
       "      <td>1</td>\n",
       "      <td>2</td>\n",
       "      <td>3.5</td>\n",
       "      <td>1112486027</td>\n",
       "    </tr>\n",
       "    <tr>\n",
       "      <th>1</th>\n",
       "      <td>1</td>\n",
       "      <td>29</td>\n",
       "      <td>3.5</td>\n",
       "      <td>1112484676</td>\n",
       "    </tr>\n",
       "    <tr>\n",
       "      <th>2</th>\n",
       "      <td>1</td>\n",
       "      <td>32</td>\n",
       "      <td>3.5</td>\n",
       "      <td>1112484819</td>\n",
       "    </tr>\n",
       "    <tr>\n",
       "      <th>3</th>\n",
       "      <td>1</td>\n",
       "      <td>47</td>\n",
       "      <td>3.5</td>\n",
       "      <td>1112484727</td>\n",
       "    </tr>\n",
       "    <tr>\n",
       "      <th>4</th>\n",
       "      <td>1</td>\n",
       "      <td>50</td>\n",
       "      <td>3.5</td>\n",
       "      <td>1112484580</td>\n",
       "    </tr>\n",
       "  </tbody>\n",
       "</table>\n",
       "</div>"
      ],
      "text/plain": [
       "   userId  movieId  rating   timestamp\n",
       "0       1        2     3.5  1112486027\n",
       "1       1       29     3.5  1112484676\n",
       "2       1       32     3.5  1112484819\n",
       "3       1       47     3.5  1112484727\n",
       "4       1       50     3.5  1112484580"
      ]
     },
     "execution_count": 2,
     "metadata": {},
     "output_type": "execute_result"
    }
   ],
   "source": [
    "df = pd.read_csv('../data/ml-20m/ratings.csv')\n",
    "df.head()"
   ]
  },
  {
   "cell_type": "code",
   "execution_count": 3,
   "metadata": {},
   "outputs": [],
   "source": [
    "df.userId = pd.Categorical(df.userId)\n",
    "df['new_user_id'] = df.userId.cat.codes                # new_user_id = userId - 1"
   ]
  },
  {
   "cell_type": "code",
   "execution_count": 4,
   "metadata": {},
   "outputs": [
    {
     "data": {
      "text/html": [
       "<div>\n",
       "<style scoped>\n",
       "    .dataframe tbody tr th:only-of-type {\n",
       "        vertical-align: middle;\n",
       "    }\n",
       "\n",
       "    .dataframe tbody tr th {\n",
       "        vertical-align: top;\n",
       "    }\n",
       "\n",
       "    .dataframe thead th {\n",
       "        text-align: right;\n",
       "    }\n",
       "</style>\n",
       "<table border=\"1\" class=\"dataframe\">\n",
       "  <thead>\n",
       "    <tr style=\"text-align: right;\">\n",
       "      <th></th>\n",
       "      <th>userId</th>\n",
       "      <th>movieId</th>\n",
       "      <th>rating</th>\n",
       "      <th>timestamp</th>\n",
       "      <th>new_user_id</th>\n",
       "    </tr>\n",
       "  </thead>\n",
       "  <tbody>\n",
       "    <tr>\n",
       "      <th>20000258</th>\n",
       "      <td>138493</td>\n",
       "      <td>68954</td>\n",
       "      <td>4.5</td>\n",
       "      <td>1258126920</td>\n",
       "      <td>138492</td>\n",
       "    </tr>\n",
       "    <tr>\n",
       "      <th>20000259</th>\n",
       "      <td>138493</td>\n",
       "      <td>69526</td>\n",
       "      <td>4.5</td>\n",
       "      <td>1259865108</td>\n",
       "      <td>138492</td>\n",
       "    </tr>\n",
       "    <tr>\n",
       "      <th>20000260</th>\n",
       "      <td>138493</td>\n",
       "      <td>69644</td>\n",
       "      <td>3.0</td>\n",
       "      <td>1260209457</td>\n",
       "      <td>138492</td>\n",
       "    </tr>\n",
       "    <tr>\n",
       "      <th>20000261</th>\n",
       "      <td>138493</td>\n",
       "      <td>70286</td>\n",
       "      <td>5.0</td>\n",
       "      <td>1258126944</td>\n",
       "      <td>138492</td>\n",
       "    </tr>\n",
       "    <tr>\n",
       "      <th>20000262</th>\n",
       "      <td>138493</td>\n",
       "      <td>71619</td>\n",
       "      <td>2.5</td>\n",
       "      <td>1255811136</td>\n",
       "      <td>138492</td>\n",
       "    </tr>\n",
       "  </tbody>\n",
       "</table>\n",
       "</div>"
      ],
      "text/plain": [
       "          userId  movieId  rating   timestamp  new_user_id\n",
       "20000258  138493    68954     4.5  1258126920       138492\n",
       "20000259  138493    69526     4.5  1259865108       138492\n",
       "20000260  138493    69644     3.0  1260209457       138492\n",
       "20000261  138493    70286     5.0  1258126944       138492\n",
       "20000262  138493    71619     2.5  1255811136       138492"
      ]
     },
     "execution_count": 4,
     "metadata": {},
     "output_type": "execute_result"
    }
   ],
   "source": [
    "df.tail()"
   ]
  },
  {
   "cell_type": "code",
   "execution_count": 5,
   "metadata": {},
   "outputs": [],
   "source": [
    "df.movieId = pd.Categorical(df.movieId)\n",
    "df['new_movie_id'] = df.movieId.cat.codes    # coded new_movie_id by order start from zero"
   ]
  },
  {
   "cell_type": "code",
   "execution_count": 6,
   "metadata": {},
   "outputs": [
    {
     "data": {
      "text/html": [
       "<div>\n",
       "<style scoped>\n",
       "    .dataframe tbody tr th:only-of-type {\n",
       "        vertical-align: middle;\n",
       "    }\n",
       "\n",
       "    .dataframe tbody tr th {\n",
       "        vertical-align: top;\n",
       "    }\n",
       "\n",
       "    .dataframe thead th {\n",
       "        text-align: right;\n",
       "    }\n",
       "</style>\n",
       "<table border=\"1\" class=\"dataframe\">\n",
       "  <thead>\n",
       "    <tr style=\"text-align: right;\">\n",
       "      <th></th>\n",
       "      <th>userId</th>\n",
       "      <th>movieId</th>\n",
       "      <th>rating</th>\n",
       "      <th>timestamp</th>\n",
       "      <th>new_user_id</th>\n",
       "      <th>new_movie_id</th>\n",
       "    </tr>\n",
       "  </thead>\n",
       "  <tbody>\n",
       "    <tr>\n",
       "      <th>0</th>\n",
       "      <td>1</td>\n",
       "      <td>2</td>\n",
       "      <td>3.5</td>\n",
       "      <td>1112486027</td>\n",
       "      <td>0</td>\n",
       "      <td>1</td>\n",
       "    </tr>\n",
       "    <tr>\n",
       "      <th>1</th>\n",
       "      <td>1</td>\n",
       "      <td>29</td>\n",
       "      <td>3.5</td>\n",
       "      <td>1112484676</td>\n",
       "      <td>0</td>\n",
       "      <td>28</td>\n",
       "    </tr>\n",
       "    <tr>\n",
       "      <th>2</th>\n",
       "      <td>1</td>\n",
       "      <td>32</td>\n",
       "      <td>3.5</td>\n",
       "      <td>1112484819</td>\n",
       "      <td>0</td>\n",
       "      <td>31</td>\n",
       "    </tr>\n",
       "    <tr>\n",
       "      <th>3</th>\n",
       "      <td>1</td>\n",
       "      <td>47</td>\n",
       "      <td>3.5</td>\n",
       "      <td>1112484727</td>\n",
       "      <td>0</td>\n",
       "      <td>46</td>\n",
       "    </tr>\n",
       "    <tr>\n",
       "      <th>4</th>\n",
       "      <td>1</td>\n",
       "      <td>50</td>\n",
       "      <td>3.5</td>\n",
       "      <td>1112484580</td>\n",
       "      <td>0</td>\n",
       "      <td>49</td>\n",
       "    </tr>\n",
       "  </tbody>\n",
       "</table>\n",
       "</div>"
      ],
      "text/plain": [
       "  userId movieId  rating   timestamp  new_user_id  new_movie_id\n",
       "0      1       2     3.5  1112486027            0             1\n",
       "1      1      29     3.5  1112484676            0            28\n",
       "2      1      32     3.5  1112484819            0            31\n",
       "3      1      47     3.5  1112484727            0            46\n",
       "4      1      50     3.5  1112484580            0            49"
      ]
     },
     "execution_count": 6,
     "metadata": {},
     "output_type": "execute_result"
    }
   ],
   "source": [
    "df.head()"
   ]
  },
  {
   "cell_type": "code",
   "execution_count": 7,
   "metadata": {},
   "outputs": [],
   "source": [
    "# Get user IDs, movie IDs and ratings as separate arrays\n",
    "user_ids = df['new_user_id'].values\n",
    "movie_ids = df['new_movie_id'].values\n",
    "ratings = df['rating'].values - 2.5     # Scaling of rating"
   ]
  },
  {
   "cell_type": "code",
   "execution_count": 8,
   "metadata": {},
   "outputs": [],
   "source": [
    "# Get number of users and number of movies\n",
    "N = len(set(user_ids))\n",
    "M = len(set(movie_ids))\n",
    "\n",
    "# Set embedding dimemsion\n",
    "D = 10"
   ]
  },
  {
   "cell_type": "code",
   "execution_count": 9,
   "metadata": {},
   "outputs": [],
   "source": [
    "# Make a neural network\n",
    "class Model(nn.Module):\n",
    "  def __init__(self, n_users, n_items, embed_dim, n_hidden=1024):\n",
    "    super(Model, self).__init__()\n",
    "    self.N = n_users\n",
    "    self.M = n_items\n",
    "    self.D = embed_dim\n",
    "\n",
    "    self.u_emb = nn.Embedding(self.N, self.D)\n",
    "    self.m_emb = nn.Embedding(self.M, self.D)\n",
    "    self.fc1 = nn.Linear(2*self.D, n_hidden)\n",
    "    self.fc2 = nn.Linear(n_hidden, 1)\n",
    "\n",
    "    # set the weights since N(0,1) leads to poor results      \n",
    "    # Manually hyperparameter initialization with weights --> Cuda 사용율 3배 증가\n",
    "    self.u_emb.weight.data = nn.Parameter(\n",
    "        torch.Tensor(np.random.randn(self.N, self.D) * 0.01))\n",
    "    self.m_emb.weight.data = nn.Parameter(\n",
    "        torch.Tensor(np.random.randn(self.M, self.D) * 0.01))\n",
    "\n",
    "  def forward(self, u, m):\n",
    "    u = self.u_emb(u)  # output is (num_samples, D)\n",
    "    m = self.m_emb(m)  # output is (num_samples, D)\n",
    "\n",
    "    # merge\n",
    "    out = torch.cat((u,m),1)   # output is (num_samples, 2D)\n",
    "\n",
    "    # ANN\n",
    "    out = self.fc1(out)\n",
    "    out = F.relu(out)\n",
    "    out = self.fc2(out)\n",
    "    return out"
   ]
  },
  {
   "cell_type": "code",
   "execution_count": 10,
   "metadata": {},
   "outputs": [
    {
     "name": "stdout",
     "output_type": "stream",
     "text": [
      "cuda:0\n"
     ]
    }
   ],
   "source": [
    "device = torch.device(\"cuda:0\" if torch.cuda.is_available() else \"cpu\")\n",
    "print(device)"
   ]
  },
  {
   "cell_type": "code",
   "execution_count": 11,
   "metadata": {},
   "outputs": [
    {
     "data": {
      "text/plain": [
       "Model(\n",
       "  (u_emb): Embedding(138493, 10)\n",
       "  (m_emb): Embedding(26744, 10)\n",
       "  (fc1): Linear(in_features=20, out_features=1024, bias=True)\n",
       "  (fc2): Linear(in_features=1024, out_features=1, bias=True)\n",
       ")"
      ]
     },
     "execution_count": 11,
     "metadata": {},
     "output_type": "execute_result"
    }
   ],
   "source": [
    "model = Model(N, M, D)\n",
    "model.to(device)"
   ]
  },
  {
   "cell_type": "code",
   "execution_count": 12,
   "metadata": {},
   "outputs": [],
   "source": [
    "criterion = nn.MSELoss()\n",
    "optimizer = torch.optim.Adam(model.parameters())\n",
    "#optimizer = torch.optim.SGD(model.parameters(), lr=0.08, momentum=0.9)"
   ]
  },
  {
   "cell_type": "code",
   "execution_count": 13,
   "metadata": {},
   "outputs": [],
   "source": [
    "# A function to encapsulate the training loop\n",
    "def batch_gd2(model, criterion, optimizer, train_data, test_data, epochs, bs=512):\n",
    "  train_users, train_movies, train_ratings = train_data\n",
    "  test_users, test_movies, test_ratings = test_data\n",
    "\n",
    "  train_losses = np.zeros(epochs)\n",
    "  test_losses = np.zeros(epochs)\n",
    "\n",
    "  # batches per epoch\n",
    "  Ntrain = len(train_users)\n",
    "  batches_per_epoch = int(np.ceil(Ntrain/bs))\n",
    "\n",
    "  for it in range(epochs):\n",
    "    t0 = datetime.now()\n",
    "    train_loss = []\n",
    "\n",
    "    # shuffle each batch\n",
    "    train_users, train_movies, train_ratings = shuffle(\n",
    "        train_users, train_movies, train_ratings\n",
    "    )\n",
    "\n",
    "    for j in range(batches_per_epoch):\n",
    "      # get the batch\n",
    "      users = train_users[j*bs:(j+1)*bs]\n",
    "      movies = train_movies[j*bs:(j+1)*bs]\n",
    "      targets = train_ratings[j*bs:(j+1)*bs]\n",
    "\n",
    "      # convert to tensor\n",
    "      users = torch.from_numpy(users).long()\n",
    "      movies = torch.from_numpy(movies).long()\n",
    "      targets = torch.from_numpy(targets)\n",
    "\n",
    "      # reshape targets\n",
    "      targets = targets.view(-1, 1).float()\n",
    "\n",
    "      # move data to GPU\n",
    "      users, movies, targets = users.to(device), movies.to(device), targets.to(device)\n",
    "      \n",
    "      # zero the parameter gradients\n",
    "      optimizer.zero_grad()\n",
    "\n",
    "      # Forward pass\n",
    "      outputs = model(users, movies)\n",
    "      loss = criterion(outputs, targets)\n",
    "\n",
    "      # Backward and optimize\n",
    "      loss.backward()\n",
    "      optimizer.step()\n",
    "\n",
    "      train_loss.append(loss.item())\n",
    "      \n",
    "    # Get train loss and test loss\n",
    "    train_loss = np.mean(train_loss)   # a little misleading\n",
    "\n",
    "    # we could do this if the test set size was manageable\n",
    "    # test_outputs = model(test_users, test_movies)\n",
    "    # test_loss = criterion(test_outputs, test_ratings).item()\n",
    "    test_loss = []\n",
    "    for j in range(int(np.ceil(len(test_users) / bs))):\n",
    "      # get the batch\n",
    "      users = test_users[j*bs:(j+1)*bs]\n",
    "      movies = test_movies[j*bs:(j+1)*bs]\n",
    "      targets = test_ratings[j*bs:(j+1)*bs]\n",
    "\n",
    "      # convert to tensor\n",
    "      users = torch.from_numpy(users).long()\n",
    "      movies = torch.from_numpy(movies).long()\n",
    "      targets = torch.from_numpy(targets)\n",
    "\n",
    "      # reshape targets\n",
    "      targets = targets.view(-1,1).float()\n",
    "\n",
    "      # move data to GPU\n",
    "      users, movies, targets = users.to(device), movies.to(device), targets.to(device)\n",
    "      \n",
    "      outputs = model(users, movies)\n",
    "      loss = criterion(outputs, targets).item()\n",
    "      test_loss.append(loss)\n",
    "    test_loss = np.mean(test_loss)\n",
    "\n",
    "    # Save losses\n",
    "    train_losses[it] = train_loss\n",
    "    test_losses[it] = test_loss\n",
    "\n",
    "    dt = datetime.now() - t0      \n",
    "    print(f'Epoch {it+1}/{epochs}, Train Loss: {train_loss:.4f}, Test Loss: {test_loss:.4f}, Duration: {dt}')\n",
    "  \n",
    "  return train_losses, test_losses"
   ]
  },
  {
   "cell_type": "code",
   "execution_count": 14,
   "metadata": {},
   "outputs": [],
   "source": [
    "# shuffle the data in corresponding order\n",
    "user_ids, movie_ids, ratings = shuffle(user_ids, movie_ids, ratings)"
   ]
  },
  {
   "cell_type": "code",
   "execution_count": 15,
   "metadata": {},
   "outputs": [
    {
     "name": "stdout",
     "output_type": "stream",
     "text": [
      "Epoch 1/10, Train Loss: 0.7261, Test Loss: 0.6840, Duration: 0:01:11.482313\n",
      "Epoch 2/10, Train Loss: 0.6545, Test Loss: 0.6517, Duration: 0:01:11.800406\n",
      "Epoch 3/10, Train Loss: 0.6174, Test Loss: 0.6392, Duration: 0:01:10.995645\n",
      "Epoch 4/10, Train Loss: 0.5962, Test Loss: 0.6320, Duration: 0:01:11.104291\n",
      "Epoch 5/10, Train Loss: 0.5828, Test Loss: 0.6292, Duration: 0:01:11.230616\n",
      "Epoch 6/10, Train Loss: 0.5736, Test Loss: 0.6274, Duration: 0:01:11.528570\n",
      "Epoch 7/10, Train Loss: 0.5669, Test Loss: 0.6266, Duration: 0:01:10.715920\n",
      "Epoch 8/10, Train Loss: 0.5617, Test Loss: 0.6256, Duration: 0:01:10.904205\n",
      "Epoch 9/10, Train Loss: 0.5575, Test Loss: 0.6256, Duration: 0:01:10.386484\n",
      "Epoch 10/10, Train Loss: 0.5541, Test Loss: 0.6268, Duration: 0:01:10.582934\n"
     ]
    }
   ],
   "source": [
    "# Make datasets\n",
    "Ntrain = int(0.8 * len(ratings))\n",
    "train_users = user_ids[:Ntrain]\n",
    "train_movies = movie_ids[:Ntrain]\n",
    "train_ratings = ratings[:Ntrain]\n",
    "\n",
    "test_users = user_ids[Ntrain:]\n",
    "test_movies = movie_ids[Ntrain:]\n",
    "test_ratings = ratings[Ntrain:]\n",
    "\n",
    "train_losses, test_losses = batch_gd2(\n",
    "    model,\n",
    "    criterion,\n",
    "    optimizer,\n",
    "    (train_users, train_movies, train_ratings),\n",
    "    (test_users, test_movies, test_ratings),\n",
    "    10)"
   ]
  },
  {
   "cell_type": "code",
   "execution_count": 16,
   "metadata": {},
   "outputs": [
    {
     "data": {
      "image/png": "[encoded data removed]",
      "text/plain": [
       "<Figure size 432x288 with 1 Axes>"
      ]
     },
     "metadata": {
      "needs_background": "light"
     },
     "output_type": "display_data"
    }
   ],
   "source": [
    "# Plot the train loss and test loss per iteration\n",
    "plt.plot(train_losses, label='train loss')\n",
    "plt.plot(test_losses, label='test loss')\n",
    "plt.legend()\n",
    "plt.show()"
   ]
  },
  {
   "cell_type": "code",
   "execution_count": 17,
   "metadata": {},
   "outputs": [],
   "source": [
    "# Suppose I want to find recommendations for user_id = 1\n",
    "# First find all the movie_ids for movies they haven't yet watched\n",
    "watched_movie_ids = df[df.new_user_id == 1].new_movie_id.values"
   ]
  },
  {
   "cell_type": "code",
   "execution_count": 18,
   "metadata": {},
   "outputs": [
    {
     "data": {
      "text/plain": [
       "array([   2,   61,   69,  108,  239,  257,  263,  465,  476,  537,  583,\n",
       "        874,  891,  907, 1098, 1171, 1184, 1188, 1221, 1231, 1242, 1298,\n",
       "       1326, 1494, 1528, 1616, 1684, 1881, 1885, 1886, 1887, 1888, 1889,\n",
       "       1890, 1902, 2206, 2369, 2370, 2705, 2772, 2862, 2865, 3063, 3072,\n",
       "       3086, 3361, 3423, 3443, 3464, 3474, 3612, 3662, 3824, 3825, 3830,\n",
       "       3833, 3834, 3835, 3837, 3843, 3865], dtype=int16)"
      ]
     },
     "execution_count": 18,
     "metadata": {},
     "output_type": "execute_result"
    }
   ],
   "source": [
    "watched_movie_ids"
   ]
  },
  {
   "cell_type": "code",
   "execution_count": 44,
   "metadata": {},
   "outputs": [],
   "source": [
    "potential_movie_ids = df[~df.new_movie_id.isin(watched_movie_ids)].new_movie_id.unique()"
   ]
  },
  {
   "cell_type": "code",
   "execution_count": 45,
   "metadata": {},
   "outputs": [
    {
     "data": {
      "text/plain": [
       "(26683,)"
      ]
     },
     "execution_count": 45,
     "metadata": {},
     "output_type": "execute_result"
    }
   ],
   "source": [
    "# How many?\n",
    "potential_movie_ids.shape"
   ]
  },
  {
   "cell_type": "code",
   "execution_count": 46,
   "metadata": {},
   "outputs": [
    {
     "data": {
      "text/plain": [
       "26683"
      ]
     },
     "execution_count": 46,
     "metadata": {},
     "output_type": "execute_result"
    }
   ],
   "source": [
    "len(set(potential_movie_ids))"
   ]
  },
  {
   "cell_type": "code",
   "execution_count": 47,
   "metadata": {},
   "outputs": [],
   "source": [
    "# Repeat the user id this many times --> the same aray but replace to only add 1\n",
    "user_id_to_recommend = np.ones_like(potential_movie_ids)"
   ]
  },
  {
   "cell_type": "code",
   "execution_count": 48,
   "metadata": {},
   "outputs": [],
   "source": [
    "# Convert to torch tensor\n",
    "t_user_ids = torch.from_numpy(user_id_to_recommend).long().to(device)\n",
    "t_movie_ids = torch.from_numpy(potential_movie_ids).long().to(device)"
   ]
  },
  {
   "cell_type": "code",
   "execution_count": 49,
   "metadata": {},
   "outputs": [],
   "source": [
    "# Get predictions\n",
    "with torch.no_grad():\n",
    "    predictions = model(t_user_ids, t_movie_ids)"
   ]
  },
  {
   "cell_type": "code",
   "execution_count": 50,
   "metadata": {},
   "outputs": [],
   "source": [
    "# Convert predictions to Numpy\n",
    "predictions_np = predictions.cpu().numpy().flatten()"
   ]
  },
  {
   "cell_type": "code",
   "execution_count": 51,
   "metadata": {},
   "outputs": [
    {
     "data": {
      "text/plain": [
       "array([1.3654692, 1.5292335, 1.8449266, ..., 1.3355634, 1.19651  ,\n",
       "       1.334086 ], dtype=float32)"
      ]
     },
     "execution_count": 51,
     "metadata": {},
     "output_type": "execute_result"
    }
   ],
   "source": [
    "predictions_np"
   ]
  },
  {
   "cell_type": "code",
   "execution_count": 52,
   "metadata": {},
   "outputs": [],
   "source": [
    "# Get sort index for predictions\n",
    "sort_idx = np.argsort(-predictions_np)   # - : means inverse sorting"
   ]
  },
  {
   "cell_type": "code",
   "execution_count": 53,
   "metadata": {},
   "outputs": [
    {
     "data": {
      "text/plain": [
       "array([ 6267,  8145,  6762, ..., 13520,  6742, 11793], dtype=int64)"
      ]
     },
     "execution_count": 53,
     "metadata": {},
     "output_type": "execute_result"
    }
   ],
   "source": [
    "sort_idx"
   ]
  },
  {
   "cell_type": "code",
   "execution_count": 54,
   "metadata": {},
   "outputs": [
    {
     "name": "stdout",
     "output_type": "stream",
     "text": [
      "movie: 8552 score: 2.6488743\n",
      "movie: 6401 score: 2.645079\n",
      "movie: 9919 score: 2.6121867\n",
      "movie: 25070 score: 2.5506587\n",
      "movie: 7041 score: 2.542558\n",
      "movie: 12668 score: 2.533606\n",
      "movie: 5853 score: 2.4961967\n",
      "movie: 6417 score: 2.4955423\n",
      "movie: 7488 score: 2.4883852\n",
      "movie: 7498 score: 2.4852087\n"
     ]
    }
   ],
   "source": [
    "# Top 10 predictions\n",
    "top_10_movie_ids = potential_movie_ids[sort_idx[:10]]\n",
    "top_10_scores = predictions_np[sort_idx[:10]]\n",
    "\n",
    "for movie, score in zip(top_10_movie_ids, top_10_scores):\n",
    "    print(\"movie:\", movie, \"score:\", score) "
   ]
  },
  {
   "cell_type": "code",
   "execution_count": null,
   "metadata": {},
   "outputs": [],
   "source": []
  }
 ],
 "metadata": {
  "kernelspec": {
   "display_name": "Python 3",
   "language": "python",
   "name": "python3"
  },
  "language_info": {
   "codemirror_mode": {
    "name": "ipython",
    "version": 3
   },
   "file_extension": ".py",
   "mimetype": "text/x-python",
   "name": "python",
   "nbconvert_exporter": "python",
   "pygments_lexer": "ipython3",
   "version": "3.8.5"
  }
 },
 "nbformat": 4,
 "nbformat_minor": 4
}
